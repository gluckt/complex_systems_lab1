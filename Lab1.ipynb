{
  "cells": [
    {
      "cell_type": "markdown",
      "metadata": {
        "id": "VOBjwKeEm7nQ"
      },
      "source": [
        "# Lab 1: Introduction\n"
      ]
    },
    {
      "cell_type": "markdown",
      "metadata": {
        "id": "2CMkjFYsQuxF"
      },
      "source": [
        "# Part 1: Using Numpy"
      ]
    },
    {
      "cell_type": "code",
      "execution_count": null,
      "metadata": {
        "id": "yXRToE9Dmmwo"
      },
      "outputs": [],
      "source": [
        "import numpy as np # import numpy"
      ]
    },
    {
      "cell_type": "markdown",
      "metadata": {
        "id": "UYyIqkVTXKLg"
      },
      "source": [
        "## Creating n-dimensional numpy arrays from Python lists"
      ]
    },
    {
      "cell_type": "code",
      "execution_count": null,
      "metadata": {
        "id": "YW5M33PomPQ0"
      },
      "outputs": [],
      "source": [
        "# Defining a numpy array \n",
        "\n",
        "# 1D array\n",
        "arr = np.array([1,2,3,4,5]) \n",
        "\n",
        "# 2D array\n",
        "arr_2d = np.array([[1,2,3,4,5],\n",
        "                  [6,7,8,9,10],\n",
        "                  [11,12,13,14,15]])\n",
        "\n",
        "# 3D array\n",
        "arr_3d = np.array([[[1,2,3,4,5],\n",
        "                  [6,7,8,9,10],\n",
        "                  [11,12,13,14,15]],\n",
        "                   [[16,17,18,19,20],\n",
        "                  [21,22,23,24,25],\n",
        "                  [26,27,28,29,30]]])\n",
        "\n",
        "print(arr, arr.shape) # Prints the array and its dimensions\n",
        "print(arr_2d, arr_2d.shape)\n",
        "print(arr_3d, arr_3d.shape)\n",
        "\n",
        "print(type(arr))      # Numpy array has 'numpy.ndarray' type"
      ]
    },
    {
      "cell_type": "markdown",
      "metadata": {
        "id": "FhkfogOIwB7S"
      },
      "source": [
        "## Creating numpy arrays from numpy commands"
      ]
    },
    {
      "cell_type": "code",
      "execution_count": null,
      "metadata": {
        "id": "ceKz9vlEnBqu"
      },
      "outputs": [],
      "source": [
        "# Define number of each dimension \n",
        "\n",
        "n1 = 3\n",
        "n2 = 4\n",
        "n3 = 5\n",
        "\n",
        "# Zeros array\n",
        "zeros_1d = np.zeros(n1)\n",
        "zeros_2d = np.zeros((n1,n2)) \n",
        "zeros_3d = np.zeros((n1,n2,n3))\n",
        "\n",
        "# Ones array\n",
        "ones_1d = np.ones(n1)\n",
        "ones_2d = np.ones((n1,n2))\n",
        "ones_3d = np.ones((n1,n2,n3))\n",
        "\n",
        "# Creating array using np.arange\n",
        "arr_arange = np.arange(0, 10, 1)     # (start, stop, stepsize)\n",
        "\n",
        "# Creating an array using np.linspace\n",
        "arr_linspace = np.linspace(0, 9, 10) # (start, stop, # of bins)\n",
        "\n",
        "print(zeros_2d)\n",
        "print(ones_2d)\n",
        "print(arr_arange)\n",
        "print(arr_linspace)"
      ]
    },
    {
      "cell_type": "code",
      "execution_count": null,
      "metadata": {
        "id": "fjIAvYMrnBb3"
      },
      "outputs": [],
      "source": [
        "# Random array\n",
        "\n",
        "np.random.seed(10)                 # Fixes the seed number so that random samplings always give same results\n",
        "\n",
        "rand_arr = np.random.randn(n1, n2) # Random array sampled from standard normal distribution \n",
        "print(rand_arr)"
      ]
    },
    {
      "cell_type": "markdown",
      "metadata": {
        "id": "v41QUq4BXaxT"
      },
      "source": [
        "## Matrix operations in Numpy"
      ]
    },
    {
      "cell_type": "code",
      "execution_count": null,
      "metadata": {
        "id": "2uXeiCfXoxPY"
      },
      "outputs": [],
      "source": [
        "# Elementwise Addition\n",
        "twos_2d = np.add(ones_2d, ones_2d)\n",
        "print(twos_2d)"
      ]
    },
    {
      "cell_type": "code",
      "execution_count": null,
      "metadata": {
        "id": "DfKXv1wM0bvP"
      },
      "outputs": [],
      "source": [
        "# Elementwise Subtraction\n",
        "fives_2d = ones_2d * 5\n",
        "print(np.subtract(fives_2d, twos_2d))\n",
        "print(fives_2d - 2) #alternative method"
      ]
    },
    {
      "cell_type": "code",
      "execution_count": null,
      "metadata": {
        "id": "T2d1aX6N0b4G"
      },
      "outputs": [],
      "source": [
        "# Elementwise Multiplication\n",
        "print(np.multiply(fives_2d, twos_2d))"
      ]
    },
    {
      "cell_type": "code",
      "execution_count": null,
      "metadata": {
        "id": "iFDSf2i80b-i"
      },
      "outputs": [],
      "source": [
        "# Elementwise Division\n",
        "print(np.divide(fives_2d, twos_2d))"
      ]
    },
    {
      "cell_type": "code",
      "execution_count": null,
      "metadata": {
        "id": "xIzmQ9xz0cF1"
      },
      "outputs": [],
      "source": [
        "# Dot product\n",
        "A = ones_2d.copy()\n",
        "b = np.arange(0, 4, 1)\n",
        "print(np.dot(A, b))"
      ]
    },
    {
      "cell_type": "code",
      "execution_count": null,
      "metadata": {
        "id": "LdQw7pG40cKk"
      },
      "outputs": [],
      "source": [
        "# Elementwise Power \n",
        "print(np.power(twos_2d, 3)) #(array to be powered, power constant)"
      ]
    },
    {
      "cell_type": "code",
      "execution_count": null,
      "metadata": {
        "id": "um1ouxr10cPP"
      },
      "outputs": [],
      "source": [
        "# Transpose\n",
        "print(ones_2d)\n",
        "print(ones_2d.T)             # method 1\n",
        "print(np.transpose(ones_2d)) # method 2"
      ]
    },
    {
      "cell_type": "markdown",
      "metadata": {
        "id": "Wjz11P4YXN-K"
      },
      "source": [
        "## Useful Numpy functions"
      ]
    },
    {
      "cell_type": "code",
      "execution_count": null,
      "metadata": {
        "id": "XUI0IGSopXwL"
      },
      "outputs": [],
      "source": [
        "# np.concatenate\n",
        "\n",
        "print(np.concatenate([ones_1d, zeros_1d])) # Concatenation between 1D arrays joins them into a single array"
      ]
    },
    {
      "cell_type": "code",
      "execution_count": null,
      "metadata": {
        "id": "r9IsCt-J1QZj"
      },
      "outputs": [],
      "source": [
        "# np.stack (vstack and hstack)\n",
        "\n",
        "print(np.stack([ones_2d, twos_2d]))  # np.stack([2D, 2D]) outputs 3D array\n",
        "print(np.hstack([ones_2d, twos_2d])) # np.hstack([2D, 2D]) outputs horizontally stacked 2D arrays \n",
        "print(np.vstack([ones_2d, twos_2d])) # np.vstack([2D, 2D]) outputs vertically stacked 2D arrays"
      ]
    },
    {
      "cell_type": "code",
      "execution_count": null,
      "metadata": {
        "id": "g5EbGpMQ1QdU"
      },
      "outputs": [],
      "source": [
        "# np.min, np.max, np.mean, np.sum\n",
        "\n",
        "arr = np.arange(10) # 0 to 9\n",
        "\n",
        "print(np.min(arr))  # minimum value of the array\n",
        "print(np.max(arr))  # maximum value of the array\n",
        "print(np.mean(arr)) # mean value of the array\n",
        "print(np.sum(arr))  # summation of all the elements"
      ]
    },
    {
      "cell_type": "code",
      "execution_count": null,
      "metadata": {
        "id": "N5zuvOrgCrtt"
      },
      "outputs": [],
      "source": [
        "# np.argmin, np.argmax, np.argsort\n",
        "\n",
        "print(np.argmin(arr))  # Finds the index corresponding to minimum value\n",
        "print(np.argmax(arr))  # Finds the index corresponding to maximum value\n",
        "\n",
        "np.random.shuffle(arr) # Shuffles the array\n",
        "print(arr)             # Shuffled array\n",
        "\n",
        "print(np.argsort(arr)) # Sorts the array indices from the smallest to the largest value"
      ]
    },
    {
      "cell_type": "code",
      "execution_count": null,
      "metadata": {
        "id": "uW9JWnx_1Qg6"
      },
      "outputs": [],
      "source": [
        "# np.where\n",
        "\n",
        "print(np.where(arr == 7)) # Finds the specific indicies in the array that satisfies the condition\n",
        "print(np.where(arr >= 7)) # Another example using inequality"
      ]
    },
    {
      "cell_type": "markdown",
      "metadata": {
        "id": "fEa52rt8RFuF"
      },
      "source": [
        "# Part 2: Plotting Data"
      ]
    },
    {
      "cell_type": "code",
      "execution_count": null,
      "metadata": {
        "id": "0fCxTUn0UrVy"
      },
      "outputs": [],
      "source": [
        "#%matplotlib inline   # If using local notebook runtime, allows you to display the plot inside the jupyter notebook\n",
        "#%matplotlib notebook # Alternatively, you can use this line instead for interactive plots\n",
        "\n",
        "import matplotlib.pyplot as plt"
      ]
    },
    {
      "cell_type": "markdown",
      "metadata": {
        "id": "zROYzASTqm1c"
      },
      "source": [
        "## Basic plotting"
      ]
    },
    {
      "cell_type": "code",
      "execution_count": null,
      "metadata": {
        "id": "Sq1iXwigqH7l"
      },
      "outputs": [],
      "source": [
        "x = np.arange(0, 10, 1/32) # x axis data\n",
        "y = np.sin(x)              # y axis data\n",
        "plt.plot(x, y)             # plot the data"
      ]
    },
    {
      "cell_type": "markdown",
      "metadata": {
        "id": "g8E9UK4hqpcF"
      },
      "source": [
        "## Labeling your plots"
      ]
    },
    {
      "cell_type": "code",
      "execution_count": null,
      "metadata": {
        "id": "9vRpvao1qIpk"
      },
      "outputs": [],
      "source": [
        "plt.plot(x, y) \n",
        "plt.title('y=sin(x)')  # set the title\n",
        "plt.xlabel('x')        # set the x axis label\n",
        "plt.ylabel('y')        # set the y axis label\n",
        "plt.xlim(-1, 11)       # set the x axis range\n",
        "plt.ylim(-2, 2)        # set the y axis range\n",
        "plt.grid()             # enable the grid"
      ]
    },
    {
      "cell_type": "markdown",
      "metadata": {
        "id": "rnzo9q8Eqtn8"
      },
      "source": [
        "## Multiple plots"
      ]
    },
    {
      "cell_type": "code",
      "execution_count": null,
      "metadata": {
        "id": "nalHV8J1qIhs"
      },
      "outputs": [],
      "source": [
        "# Multiple Plots\n",
        "# On same figure \n",
        "x = np.arange(0, 10, 1/32) # x axis data\n",
        "y1 = np.sin(x)             # y axis data 1\n",
        "y2 = np.cos(x)             # y axis data 2\n",
        "y3 = np.tan(x)             # y axis data 3\n",
        "plt.figure(1)              # create figure 1\n",
        "plt.plot(x, y1, label='sin(x)')\n",
        "plt.plot(x, y2, label='cos(x)')\n",
        "plt.plot(x, y3, label='tan(x)')\n",
        "plt.xlabel('x')\n",
        "plt.ylabel('y')\n",
        "plt.xlim(-1, 11)\n",
        "plt.ylim(-2, 2)\n",
        "plt.suptitle('Trigonometric Functions')\n",
        "plt.legend()\n",
        "plt.show()\n"
      ]
    },
    {
      "cell_type": "markdown",
      "metadata": {
        "id": "p-PHYpYDqvko"
      },
      "source": [
        "## Creating subplots"
      ]
    },
    {
      "cell_type": "code",
      "execution_count": null,
      "metadata": {
        "id": "CDDlHgGhqMei"
      },
      "outputs": [],
      "source": [
        "# Multiple Subplots\n",
        "x = np.arange(0, 10, 1/32) # x axis data\n",
        "y1 = np.sin(x)             # y axis data for subplot 1\n",
        "y2 = np.cos(x)             # y axis data for subplot 2\n",
        "y3 = np.tan(x)             # y axis data for subplot 3\n",
        "\n",
        "fig = plt.figure(2,figsize=(8,8)) # create figure 2\n",
        "\n",
        "plt.subplot(311)           # (number of rows, number of columns, current plot)\n",
        "plt.plot(x, y1)\n",
        "plt.title('sin(x)')\n",
        "plt.xlabel('x')\n",
        "plt.ylabel('y')\n",
        "\n",
        "plt.subplot(312)\n",
        "plt.plot(x, y2)\n",
        "plt.title('cos(x)')\n",
        "plt.xlabel('x')\n",
        "plt.ylabel('y')\n",
        "\n",
        "plt.subplot(313)\n",
        "plt.plot(x, y3)\n",
        "plt.title('tan(x)')\n",
        "plt.xlabel('x')\n",
        "plt.ylabel('y')\n",
        "plt.ylim(-1, 1)\n",
        "\n",
        "fig.tight_layout()"
      ]
    },
    {
      "cell_type": "markdown",
      "metadata": {
        "id": "uzEd0yNS_L8S"
      },
      "source": [
        "# Part 3: Working with data\n"
      ]
    },
    {
      "cell_type": "code",
      "execution_count": null,
      "metadata": {
        "id": "tVXqp0NxxTuW"
      },
      "outputs": [],
      "source": [
        "import pandas as pd\n",
        "import sklearn\n",
        "\n",
        "# Import necessary modules\n",
        "from sklearn.linear_model import LogisticRegressionCV\n",
        "\n",
        "diabetes = pd.read_csv('diabetes.csv') # Read the dataset with pandas\n",
        "diabetes.head() # Display the head of the data"
      ]
    },
    {
      "cell_type": "code",
      "execution_count": null,
      "metadata": {
        "id": "U3HEWis0xTuW"
      },
      "outputs": [],
      "source": [
        "# Scaling the data\n",
        "\n",
        "X1 = diabetes.values[:, :-1]                                              # Extract features\n",
        "Y1 = diabetes.values[:, -1]                                               # Extract labels\n",
        "\n",
        "# Scale the data z = (x - u) / s\n",
        "\n",
        "X1_mean = np.mean(X1, axis = 0)                                           # Compute means\n",
        "X1_std = np.std(X1, axis = 0)                                             # Compute stds\n",
        "X1_mean_repeated = np.tile(X1_mean, (len(X1), 1))                         # Create repeated array of mean to match X1 dimension\n",
        "X1_std_repeated = np.tile(X1_std, (len(X1), 1))                           # Create repeated array of std to match X1 dimension\n",
        "X1_scaled = np.divide(np.subtract(X1, X1_mean_repeated), X1_std_repeated) # Compute z for the array"
      ]
    },
    {
      "cell_type": "code",
      "execution_count": null,
      "metadata": {
        "id": "qXyy3TO1xTuX"
      },
      "outputs": [],
      "source": [
        "# Divide the data into training and testing\n",
        "\n",
        "test_ratio = 0.3                              # Set the test data ratio\n",
        "train_size = int(len(X1)*(1-test_ratio))      # Set training data size based on test ratio\n",
        "\n",
        "X_train = X1_scaled[:train_size]              \n",
        "X_test = X1_scaled[train_size:]\n",
        "Y_train = Y1[:train_size]\n",
        "Y_test = Y1[train_size:]"
      ]
    },
    {
      "cell_type": "code",
      "execution_count": null,
      "metadata": {
        "id": "X-ZnXwDlxTuX"
      },
      "outputs": [],
      "source": [
        "# Use cross validation to train\n",
        "model = LogisticRegressionCV(cv=10).fit(X_train, Y_train)\n",
        "result = model.score(X_test, Y_test)\n",
        "\n",
        "print(\"Accuracy: %.2f%%\" % (result*100))"
      ]
    },
    {
      "cell_type": "markdown",
      "metadata": {
        "id": "x7xmkhCeSc_m"
      },
      "source": [
        "# Lab Assignment: Implement Neural Network for XOR gate from scratch \n"
      ]
    },
    {
      "cell_type": "markdown",
      "source": [
        "First we will set up our enviroment. We will need `pandas` and `numpy` packages for data processing and `matplotlib` to visualize the performance of the NN later on."
      ],
      "metadata": {
        "id": "NURCh1opEzgy"
      }
    },
    {
      "cell_type": "code",
      "execution_count": 2,
      "metadata": {
        "id": "1Lu3k4tgRKMU",
        "outputId": "2e42aefa-9520-476a-a056-7194651f9483",
        "colab": {
          "base_uri": "https://localhost:8080/",
          "height": 175
        }
      },
      "outputs": [
        {
          "output_type": "execute_result",
          "data": {
            "text/plain": [
              "   x1  x2  y\n",
              "0   0   0  0\n",
              "1   0   1  1\n",
              "2   1   0  1\n",
              "3   1   1  0"
            ],
            "text/html": [
              "\n",
              "  <div id=\"df-91eb205b-8491-4f79-a794-69d71aebc7ab\">\n",
              "    <div class=\"colab-df-container\">\n",
              "      <div>\n",
              "<style scoped>\n",
              "    .dataframe tbody tr th:only-of-type {\n",
              "        vertical-align: middle;\n",
              "    }\n",
              "\n",
              "    .dataframe tbody tr th {\n",
              "        vertical-align: top;\n",
              "    }\n",
              "\n",
              "    .dataframe thead th {\n",
              "        text-align: right;\n",
              "    }\n",
              "</style>\n",
              "<table border=\"1\" class=\"dataframe\">\n",
              "  <thead>\n",
              "    <tr style=\"text-align: right;\">\n",
              "      <th></th>\n",
              "      <th>x1</th>\n",
              "      <th>x2</th>\n",
              "      <th>y</th>\n",
              "    </tr>\n",
              "  </thead>\n",
              "  <tbody>\n",
              "    <tr>\n",
              "      <th>0</th>\n",
              "      <td>0</td>\n",
              "      <td>0</td>\n",
              "      <td>0</td>\n",
              "    </tr>\n",
              "    <tr>\n",
              "      <th>1</th>\n",
              "      <td>0</td>\n",
              "      <td>1</td>\n",
              "      <td>1</td>\n",
              "    </tr>\n",
              "    <tr>\n",
              "      <th>2</th>\n",
              "      <td>1</td>\n",
              "      <td>0</td>\n",
              "      <td>1</td>\n",
              "    </tr>\n",
              "    <tr>\n",
              "      <th>3</th>\n",
              "      <td>1</td>\n",
              "      <td>1</td>\n",
              "      <td>0</td>\n",
              "    </tr>\n",
              "  </tbody>\n",
              "</table>\n",
              "</div>\n",
              "      <button class=\"colab-df-convert\" onclick=\"convertToInteractive('df-91eb205b-8491-4f79-a794-69d71aebc7ab')\"\n",
              "              title=\"Convert this dataframe to an interactive table.\"\n",
              "              style=\"display:none;\">\n",
              "        \n",
              "  <svg xmlns=\"http://www.w3.org/2000/svg\" height=\"24px\"viewBox=\"0 0 24 24\"\n",
              "       width=\"24px\">\n",
              "    <path d=\"M0 0h24v24H0V0z\" fill=\"none\"/>\n",
              "    <path d=\"M18.56 5.44l.94 2.06.94-2.06 2.06-.94-2.06-.94-.94-2.06-.94 2.06-2.06.94zm-11 1L8.5 8.5l.94-2.06 2.06-.94-2.06-.94L8.5 2.5l-.94 2.06-2.06.94zm10 10l.94 2.06.94-2.06 2.06-.94-2.06-.94-.94-2.06-.94 2.06-2.06.94z\"/><path d=\"M17.41 7.96l-1.37-1.37c-.4-.4-.92-.59-1.43-.59-.52 0-1.04.2-1.43.59L10.3 9.45l-7.72 7.72c-.78.78-.78 2.05 0 2.83L4 21.41c.39.39.9.59 1.41.59.51 0 1.02-.2 1.41-.59l7.78-7.78 2.81-2.81c.8-.78.8-2.07 0-2.86zM5.41 20L4 18.59l7.72-7.72 1.47 1.35L5.41 20z\"/>\n",
              "  </svg>\n",
              "      </button>\n",
              "      \n",
              "  <style>\n",
              "    .colab-df-container {\n",
              "      display:flex;\n",
              "      flex-wrap:wrap;\n",
              "      gap: 12px;\n",
              "    }\n",
              "\n",
              "    .colab-df-convert {\n",
              "      background-color: #E8F0FE;\n",
              "      border: none;\n",
              "      border-radius: 50%;\n",
              "      cursor: pointer;\n",
              "      display: none;\n",
              "      fill: #1967D2;\n",
              "      height: 32px;\n",
              "      padding: 0 0 0 0;\n",
              "      width: 32px;\n",
              "    }\n",
              "\n",
              "    .colab-df-convert:hover {\n",
              "      background-color: #E2EBFA;\n",
              "      box-shadow: 0px 1px 2px rgba(60, 64, 67, 0.3), 0px 1px 3px 1px rgba(60, 64, 67, 0.15);\n",
              "      fill: #174EA6;\n",
              "    }\n",
              "\n",
              "    [theme=dark] .colab-df-convert {\n",
              "      background-color: #3B4455;\n",
              "      fill: #D2E3FC;\n",
              "    }\n",
              "\n",
              "    [theme=dark] .colab-df-convert:hover {\n",
              "      background-color: #434B5C;\n",
              "      box-shadow: 0px 1px 3px 1px rgba(0, 0, 0, 0.15);\n",
              "      filter: drop-shadow(0px 1px 2px rgba(0, 0, 0, 0.3));\n",
              "      fill: #FFFFFF;\n",
              "    }\n",
              "  </style>\n",
              "\n",
              "      <script>\n",
              "        const buttonEl =\n",
              "          document.querySelector('#df-91eb205b-8491-4f79-a794-69d71aebc7ab button.colab-df-convert');\n",
              "        buttonEl.style.display =\n",
              "          google.colab.kernel.accessAllowed ? 'block' : 'none';\n",
              "\n",
              "        async function convertToInteractive(key) {\n",
              "          const element = document.querySelector('#df-91eb205b-8491-4f79-a794-69d71aebc7ab');\n",
              "          const dataTable =\n",
              "            await google.colab.kernel.invokeFunction('convertToInteractive',\n",
              "                                                     [key], {});\n",
              "          if (!dataTable) return;\n",
              "\n",
              "          const docLinkHtml = 'Like what you see? Visit the ' +\n",
              "            '<a target=\"_blank\" href=https://colab.research.google.com/notebooks/data_table.ipynb>data table notebook</a>'\n",
              "            + ' to learn more about interactive tables.';\n",
              "          element.innerHTML = '';\n",
              "          dataTable['output_type'] = 'display_data';\n",
              "          await google.colab.output.renderOutput(dataTable, element);\n",
              "          const docLink = document.createElement('div');\n",
              "          docLink.innerHTML = docLinkHtml;\n",
              "          element.appendChild(docLink);\n",
              "        }\n",
              "      </script>\n",
              "    </div>\n",
              "  </div>\n",
              "  "
            ]
          },
          "metadata": {},
          "execution_count": 2
        }
      ],
      "source": [
        "# XOR table\n",
        "import pandas as pd, numpy as np, matplotlib.pyplot as plt\n",
        "XOR_table = pd.read_csv('XOR_table.csv')\n",
        "XOR_table"
      ]
    },
    {
      "cell_type": "markdown",
      "source": [
        "This XOR table will be our input to train the model. Specifically, our inputs are the `x1` and `x2` columns and the `y` column are the labels, or desired outputs. We will extract the values from the XOR table into an array and split out inputs and outputs."
      ],
      "metadata": {
        "id": "2GaPZAstFOQY"
      }
    },
    {
      "cell_type": "markdown",
      "metadata": {
        "id": "Y4yhYFD4h3eR"
      },
      "source": [
        "![](https://drive.google.com/uc?export=view&id=1lf82hKZxfBqhV2m5cLIRO_9pO1S3T4ty)"
      ]
    },
    {
      "cell_type": "code",
      "execution_count": 3,
      "metadata": {
        "id": "_oCWE2KK_vVr",
        "outputId": "db2ad722-31c0-4093-89b0-b0ea8810b848",
        "colab": {
          "base_uri": "https://localhost:8080/"
        }
      },
      "outputs": [
        {
          "output_type": "stream",
          "name": "stdout",
          "text": [
            "[[0 0]\n",
            " [0 1]\n",
            " [1 0]\n",
            " [1 1]]\n",
            "[[0]\n",
            " [1]\n",
            " [1]\n",
            " [0]]\n"
          ]
        }
      ],
      "source": [
        "XOR_values = XOR_table.values\n",
        "X = XOR_values[:,0:2]\n",
        "targets = XOR_values[:,-1].reshape(-1,1)\n",
        "\n",
        "print(X)       # Input data\n",
        "print(targets) # Output targets"
      ]
    },
    {
      "cell_type": "markdown",
      "source": [
        "Now let's implement our Neural Network. It will have one input layer, a hidden layer, and an output layer. The input and hidden layers will each have two nodes, and the output will have one, since our task is to output a binary value. \n",
        "\n",
        "Here we will do some setup."
      ],
      "metadata": {
        "id": "vn7rXcdeGzTX"
      }
    },
    {
      "cell_type": "code",
      "execution_count": 122,
      "metadata": {
        "id": "J7L0PtiRjNr5"
      },
      "outputs": [],
      "source": [
        "# First set a seed for consistent results\n",
        "np.random.seed(5)\n",
        "\n",
        "# Define dimensions on input, hidden and output layers\n",
        "# There are two input neurons, two in hidden layer, and one output\n",
        "input_dim, hidden_dim, output_dim = 2,4,1\n",
        "\n",
        "# Define learning rate\n",
        "learning_rate=0.1\n",
        "\n",
        "# Define a hidden layer and output layer\n",
        "# We will initialize our weights randomly\n",
        "W1 = np.random.normal(0,1,(hidden_dim, input_dim))\n",
        "W2 = np.random.normal(0,1,(hidden_dim, output_dim))"
      ]
    },
    {
      "cell_type": "markdown",
      "source": [
        "Now let's define some functions."
      ],
      "metadata": {
        "id": "tgOybfAnHpTQ"
      }
    },
    {
      "cell_type": "code",
      "source": [
        "# Define sigmoid activation function\n",
        "# if deriv = True, returns the derivative instead\n",
        "def sigmoid(x, deriv=False):\n",
        "  if deriv:\n",
        "    return x*(1-x)\n",
        "  else:\n",
        "    return 1/(1+np.exp(-x))\n",
        "\n",
        "# Define loss function\n",
        "# This will accept two arrays and return the L2-norm error\n",
        "def loss(y,t):\n",
        "  return np.sum((y-t)**2)\n",
        "\n",
        "# Performs feed foward computations and returns the results\n",
        "def forward(x, w1, w2):\n",
        "  z = sigmoid(np.dot(x,w1.T))\n",
        "  y = sigmoid(np.dot(z,w2))\n",
        "  return z,y\n",
        "\n",
        "# Performs back propogation to obtain gradients of loss function\n",
        "def backprop(x,z,y,w1,w2,targets):\n",
        "  error = 2*(y-targets)\n",
        "  grad_w2 = np.dot((error*sigmoid(y, deriv=True)).T, z).T\n",
        "  grad_w2 = np.dot((error*sigmoid(y, deriv=True)).T, z).T\n",
        "  g1 = error*sigmoid(y,deriv=True).dot(W2.T)\n",
        "  g2 = g1*sigmoid(z,deriv=True)\n",
        "  grad_w1 = np.dot(g2.T, x)\n",
        "  return grad_w1, grad_w2\n",
        "\n",
        "# Training routine\n",
        "# returns \n",
        "#   w1,w2: updated weights matrices\n",
        "#   loss_vals: array of loss function values for each iteration\n",
        "def train(x,targets,w1,w2,iter = 10000,verbose=False):\n",
        "  # Define empty array to store loss function output\n",
        "  loss_vals = []\n",
        "\n",
        "  # create local copies of W1 and W2 so we don't overwrite the originals\n",
        "  local_w1 = w1.copy()\n",
        "  local_w2 = w2.copy()\n",
        "  for i in range(iter):\n",
        "    \n",
        "    # Forward pass: compute predicted y\n",
        "    z,y = forward(x, local_w1, local_w2)\n",
        "\n",
        "    # Compute and print L2-norm loss\n",
        "    if verbose: print(loss(y,targets))\n",
        "\n",
        "    # Backprop to compute gradients of w1 and w2 with respect to L2-norm loss\n",
        "    grad_w1, grad_w2 = backprop(x,z,y,local_w1,local_w2,targets)\n",
        "\n",
        "    # Update weights\n",
        "    local_w1 -= learning_rate*grad_w1\n",
        "    local_w2 -= learning_rate*grad_w2\n",
        "\n",
        "    # Save loss to an array\n",
        "    loss_vals.append(np.sum(loss(y,targets)))\n",
        "\n",
        "  return local_w1,local_w2,loss_vals\n"
      ],
      "metadata": {
        "id": "3erFwJJJHmmp"
      },
      "execution_count": 105,
      "outputs": []
    },
    {
      "cell_type": "code",
      "source": [
        "z = sigmoid(np.dot(X,W1.T))\n",
        "y = sigmoid(np.dot(z,W2))\n",
        "z.shape"
      ],
      "metadata": {
        "id": "fm1UMovIsZ2-",
        "outputId": "aa5f89af-4f38-4670-e440-8290051eb528",
        "colab": {
          "base_uri": "https://localhost:8080/"
        }
      },
      "execution_count": 30,
      "outputs": [
        {
          "output_type": "execute_result",
          "data": {
            "text/plain": [
              "(4, 8)"
            ]
          },
          "metadata": {},
          "execution_count": 30
        }
      ]
    },
    {
      "cell_type": "code",
      "source": [
        "np.dot(sigmoid(z, deriv=True).T,X).shape"
      ],
      "metadata": {
        "id": "_Lz6b1aVMAnu",
        "outputId": "92060f85-0899-4327-9b76-068db68bacb6",
        "colab": {
          "base_uri": "https://localhost:8080/"
        }
      },
      "execution_count": 36,
      "outputs": [
        {
          "output_type": "execute_result",
          "data": {
            "text/plain": [
              "(8, 2)"
            ]
          },
          "metadata": {},
          "execution_count": 36
        }
      ]
    },
    {
      "cell_type": "code",
      "source": [
        "# Predict based on trained weights\n",
        "def predict(x, w1_pred, w2_pred):\n",
        "  z,y = forward(x,w1_pred,w2_pred)\n",
        "  return z,y"
      ],
      "metadata": {
        "id": "h72oJYktM1dS"
      },
      "execution_count": 6,
      "outputs": []
    },
    {
      "cell_type": "markdown",
      "source": [
        "Now with these functions defined we may implement the NN. "
      ],
      "metadata": {
        "id": "jNg87mgpJS0T"
      }
    },
    {
      "cell_type": "code",
      "source": [
        "# Train neural net\n",
        "W1_pred,W2_pred,loss_vals = train(X,targets,W1,W2)\n",
        "\n",
        "# Plot loss function over each iteration\n",
        "%matplotlib inline\n",
        "plt.plot(loss_vals);"
      ],
      "metadata": {
        "colab": {
          "base_uri": "https://localhost:8080/",
          "height": 265
        },
        "id": "XKrtiiIZJK2D",
        "outputId": "fa97ae3f-e975-4958-a64e-e295b97102fd"
      },
      "execution_count": 123,
      "outputs": [
        {
          "output_type": "display_data",
          "data": {
            "text/plain": [
              "<Figure size 432x288 with 1 Axes>"
            ],
            "image/png": "[encoded data removed]"
          },
          "metadata": {
            "needs_background": "light"
          }
        }
      ]
    },
    {
      "cell_type": "code",
      "source": [
        "z,y = predict(X, W1_pred, W2_pred)\n",
        "plt.scatter(X[:,0], X[:,1], c = y, cmap = \"RdBu\");\n",
        "plt.colorbar();"
      ],
      "metadata": {
        "colab": {
          "base_uri": "https://localhost:8080/",
          "height": 265
        },
        "id": "m3oK3VIE0J51",
        "outputId": "106fbcee-819d-43a0-9d3c-d5f368f39067"
      },
      "execution_count": 126,
      "outputs": [
        {
          "output_type": "display_data",
          "data": {
            "text/plain": [
              "<Figure size 432x288 with 2 Axes>"
            ],
            "image/png": "[encoded data removed]"
          },
          "metadata": {
            "needs_background": "light"
          }
        }
      ]
    },
    {
      "cell_type": "code",
      "source": [
        "np.hstack((X,y))"
      ],
      "metadata": {
        "id": "O2Zn-lOuRbKv",
        "outputId": "1c4c8168-e092-48ef-8033-bc957f018d6e",
        "colab": {
          "base_uri": "https://localhost:8080/"
        }
      },
      "execution_count": 127,
      "outputs": [
        {
          "output_type": "execute_result",
          "data": {
            "text/plain": [
              "array([[0.        , 0.        , 0.07161133],\n",
              "       [0.        , 1.        , 0.88792342],\n",
              "       [1.        , 0.        , 0.89381186],\n",
              "       [1.        , 1.        , 0.11041672]])"
            ]
          },
          "metadata": {},
          "execution_count": 127
        }
      ]
    },
    {
      "cell_type": "markdown",
      "source": [
        "We see that our loss function seems to converge after around 4000 iterations. As a metric for model performance however, this would indicate that the model is not performing well with an error of about `0.7`.\n",
        "\n",
        "We may notice that our inputs to train the model are actually the entire dataset. Although the data is small, we cannot truly evaluate the performance of our model without splitting the data into training and test datasets. I hypothesize that here we are underfitting the model, since we have attempted to train on the entire dataset and ended up with a high training error.\n",
        "\n",
        "Let's split the data 75/25 into train/test, and cross-validate to see how our model performs using the loss function output as our performance metric."
      ],
      "metadata": {
        "id": "oKNEUAkLLpAZ"
      }
    },
    {
      "cell_type": "markdown",
      "source": [
        "Define training and test datasets"
      ],
      "metadata": {
        "id": "m1gb9PvLtqd8"
      }
    },
    {
      "cell_type": "code",
      "source": [
        "# split data\n",
        "arr = [1,2,3]\n",
        "x_train = X[arr,:]\n",
        "x_test = X[[0],:]\n",
        "labels = targets[arr]\n",
        "\n",
        "# train model on training data\n",
        "w1_pred,w2_pred,loss_vals = train(x_train, labels, W1, W2)\n",
        "\n",
        "# predict test data using trained model\n",
        "z,y = predict(x_test, w1_pred, w2_pred)"
      ],
      "metadata": {
        "id": "dmNA256JYTpy"
      },
      "execution_count": 128,
      "outputs": []
    },
    {
      "cell_type": "code",
      "source": [
        "np.hstack((x_test,y))"
      ],
      "metadata": {
        "id": "28n57Y-oTkam",
        "outputId": "7fe63e66-87f2-4c03-9860-14d9abfa0338",
        "colab": {
          "base_uri": "https://localhost:8080/"
        }
      },
      "execution_count": 129,
      "outputs": [
        {
          "output_type": "execute_result",
          "data": {
            "text/plain": [
              "array([[0.        , 0.        , 0.99862983]])"
            ]
          },
          "metadata": {},
          "execution_count": 129
        }
      ]
    },
    {
      "cell_type": "code",
      "source": [
        "# split data\n",
        "arr = [1,2,3]\n",
        "x_train = X[arr,:]\n",
        "x_test = X[[0],:]\n",
        "labels = targets[arr]\n",
        "\n",
        "w1_pred,w2_pred,loss_vals = train(x_train, labels, W1, W2)"
      ],
      "metadata": {
        "id": "sTnlUff1bYNX"
      },
      "execution_count": 116,
      "outputs": []
    },
    {
      "cell_type": "code",
      "source": [
        "z,y = predict(x_train, w1_pred, w2_pred)"
      ],
      "metadata": {
        "id": "XPGdJHhObkLT"
      },
      "execution_count": 137,
      "outputs": []
    },
    {
      "cell_type": "code",
      "source": [
        "np.hstack((x_test,y))"
      ],
      "metadata": {
        "id": "kRWzOR-KboeA",
        "outputId": "4cf7d0b9-6b56-485c-baef-0b23c7ee2c3e",
        "colab": {
          "base_uri": "https://localhost:8080/"
        }
      },
      "execution_count": 109,
      "outputs": [
        {
          "output_type": "execute_result",
          "data": {
            "text/plain": [
              "array([[0.        , 1.        , 0.00721596],\n",
              "       [1.        , 1.        , 0.92985384]])"
            ]
          },
          "metadata": {},
          "execution_count": 109
        }
      ]
    },
    {
      "cell_type": "code",
      "source": [
        "plt.plot(loss_vals);"
      ],
      "metadata": {
        "colab": {
          "base_uri": "https://localhost:8080/",
          "height": 265
        },
        "id": "8ysQrihznD8A",
        "outputId": "19f7ef88-33c8-4d2a-af49-f75689065d35"
      },
      "execution_count": 97,
      "outputs": [
        {
          "output_type": "display_data",
          "data": {
            "text/plain": [
              "<Figure size 432x288 with 1 Axes>"
            ],
            "image/png": "[encoded data removed]"
          },
          "metadata": {
            "needs_background": "light"
          }
        }
      ]
    },
    {
      "cell_type": "code",
      "source": [
        "forward(x_test,w1_pred,w2_pred)"
      ],
      "metadata": {
        "id": "AI6JuXenxz4M",
        "outputId": "3ddc5ec3-9b58-4aac-94dc-1b2e9db91046",
        "colab": {
          "base_uri": "https://localhost:8080/"
        }
      },
      "execution_count": 98,
      "outputs": [
        {
          "output_type": "execute_result",
          "data": {
            "text/plain": [
              "(array([[0.99285417, 0.19365489]]), array([[7.53768949e-05]]))"
            ]
          },
          "metadata": {},
          "execution_count": 98
        }
      ]
    },
    {
      "cell_type": "code",
      "source": [
        "np.dot(z, w2_pred)"
      ],
      "metadata": {
        "colab": {
          "base_uri": "https://localhost:8080/"
        },
        "id": "-d7U2CqqmoV6",
        "outputId": "2ab43814-14da-4211-c265-4c36025d86b0"
      },
      "execution_count": 51,
      "outputs": [
        {
          "output_type": "execute_result",
          "data": {
            "text/plain": [
              "array([[7.53768949e-05]])"
            ]
          },
          "metadata": {},
          "execution_count": 51
        }
      ]
    },
    {
      "cell_type": "code",
      "source": [
        "W2"
      ],
      "metadata": {
        "id": "1v_BewIxxXhm",
        "outputId": "ab0237ae-537f-4bc8-9a19-9dbbba5e99dd",
        "colab": {
          "base_uri": "https://localhost:8080/"
        }
      },
      "execution_count": 41,
      "outputs": [
        {
          "output_type": "execute_result",
          "data": {
            "text/plain": [
              "array([[0.10960984],\n",
              "       [1.58248112]])"
            ]
          },
          "metadata": {},
          "execution_count": 41
        }
      ]
    },
    {
      "cell_type": "code",
      "source": [
        "np.dot(x_test,w1_pred)"
      ],
      "metadata": {
        "id": "27J_YexDxbQA",
        "outputId": "11de5f99-fc63-4fb3-9692-f2ad4d276a2b",
        "colab": {
          "base_uri": "https://localhost:8080/"
        }
      },
      "execution_count": 53,
      "outputs": [
        {
          "output_type": "execute_result",
          "data": {
            "text/plain": [
              "array([[ 4.93405507, -1.42643414]])"
            ]
          },
          "metadata": {},
          "execution_count": 53
        }
      ]
    },
    {
      "cell_type": "code",
      "source": [
        "# Apply model to entire dataset\n",
        "z,y = predict(X, w1_pred, w2_pred)\n",
        "# Show inputs with predictions\n",
        "np.hstack((X,y))"
      ],
      "metadata": {
        "colab": {
          "base_uri": "https://localhost:8080/"
        },
        "id": "XKhMN4j1m24v",
        "outputId": "24d060cd-83b4-4bfd-edd0-dc6f8c778bbf"
      },
      "execution_count": 99,
      "outputs": [
        {
          "output_type": "execute_result",
          "data": {
            "text/plain": [
              "array([[0.00000000e+00, 0.00000000e+00, 4.21287901e-02],\n",
              "       [0.00000000e+00, 1.00000000e+00, 7.53768949e-05],\n",
              "       [1.00000000e+00, 0.00000000e+00, 9.61829925e-01],\n",
              "       [1.00000000e+00, 1.00000000e+00, 7.53382130e-03]])"
            ]
          },
          "metadata": {},
          "execution_count": 99
        }
      ]
    },
    {
      "cell_type": "code",
      "source": [
        "plt.scatter(X[:,0], X[:,1], c = y, cmap = \"RdBu\");\n",
        "plt.colorbar();"
      ],
      "metadata": {
        "colab": {
          "base_uri": "https://localhost:8080/",
          "height": 265
        },
        "id": "MnAtxF9ksTRb",
        "outputId": "dafe5f66-fdb0-4dfe-a717-a886406d1908"
      },
      "execution_count": 119,
      "outputs": [
        {
          "output_type": "display_data",
          "data": {
            "text/plain": [
              "<Figure size 432x288 with 2 Axes>"
            ],
            "image/png": "[encoded data removed]"
          },
          "metadata": {
            "needs_background": "light"
          }
        }
      ]
    },
    {
      "cell_type": "markdown",
      "source": [
        "When trained on a subset of the XOR table, the model performs well for the inputs (0,1), (0,0), and (1,1), but fails tremendously in predicting the output for the test data (1,0). \n",
        "\n",
        "The loss curve for this model indicates that perhaps the model was overfit to the training data, and thus failed to produce an accurate result when given the test data."
      ],
      "metadata": {
        "id": "8ys3-rUAuD7O"
      }
    },
    {
      "cell_type": "markdown",
      "source": [
        "Ideally, the decision boundary for the XOR network would look something like this"
      ],
      "metadata": {
        "id": "Cmmk_WZ_xQcI"
      }
    },
    {
      "cell_type": "code",
      "source": [
        "plt.scatter([0,1], [0,1]);\n",
        "plt.scatter([0,1], [1,0]);\n",
        "plt.plot(np.linspace(-.4,1), .5 - 1*np.linspace(-.4,1), 'k--');\n",
        "plt.plot(np.linspace(0,1.4), 1.5 - 1*np.linspace(0,1.4), 'k--');"
      ],
      "metadata": {
        "colab": {
          "base_uri": "https://localhost:8080/",
          "height": 265
        },
        "id": "0wnyIIZAxVJt",
        "outputId": "d695e356-f014-42ce-e7c2-81ccc6276b2c"
      },
      "execution_count": 134,
      "outputs": [
        {
          "output_type": "display_data",
          "data": {
            "text/plain": [
              "<Figure size 432x288 with 1 Axes>"
            ],
            "image/png": "[encoded data removed]"
          },
          "metadata": {
            "needs_background": "light"
          }
        }
      ]
    },
    {
      "cell_type": "markdown",
      "source": [
        "Since the problem is not linearly separable, there must be two different classifications occuring simultaneously. Any linearly separable problem can be classified with a single perceptron, but XOR requries a hidden layer with two neurons, which indicates that at least two classifications occur.\n",
        "Each hidden layer neuron dictates a decision boundary."
      ],
      "metadata": {
        "id": "hrLMtsECylMb"
      }
    }
  ],
  "metadata": {
    "colab": {
      "collapsed_sections": [],
      "name": "Lab1.ipynb",
      "provenance": []
    },
    "kernelspec": {
      "display_name": "Python 3",
      "language": "python",
      "name": "python3"
    },
    "language_info": {
      "codemirror_mode": {
        "name": "ipython",
        "version": 3
      },
      "file_extension": ".py",
      "mimetype": "text/x-python",
      "name": "python",
      "nbconvert_exporter": "python",
      "pygments_lexer": "ipython3",
      "version": "3.8.5"
    }
  },
  "nbformat": 4,
  "nbformat_minor": 0
}