{
  "cells": [
    {
      "cell_type": "markdown",
      "metadata": {
        "id": "VOBjwKeEm7nQ"
      },
      "source": [
        "# Lab 1: Introduction\n"
      ]
    },
    {
      "cell_type": "markdown",
      "metadata": {
        "id": "2CMkjFYsQuxF"
      },
      "source": [
        "# Part 1: Using Numpy"
      ]
    },
    {
      "cell_type": "code",
      "execution_count": null,
      "metadata": {
        "id": "yXRToE9Dmmwo"
      },
      "outputs": [],
      "source": [
        "import numpy as np # import numpy"
      ]
    },
    {
      "cell_type": "markdown",
      "metadata": {
        "id": "UYyIqkVTXKLg"
      },
      "source": [
        "## Creating n-dimensional numpy arrays from Python lists"
      ]
    },
    {
      "cell_type": "code",
      "execution_count": null,
      "metadata": {
        "id": "YW5M33PomPQ0"
      },
      "outputs": [],
      "source": [
        "# Defining a numpy array \n",
        "\n",
        "# 1D array\n",
        "arr = np.array([1,2,3,4,5]) \n",
        "\n",
        "# 2D array\n",
        "arr_2d = np.array([[1,2,3,4,5],\n",
        "                  [6,7,8,9,10],\n",
        "                  [11,12,13,14,15]])\n",
        "\n",
        "# 3D array\n",
        "arr_3d = np.array([[[1,2,3,4,5],\n",
        "                  [6,7,8,9,10],\n",
        "                  [11,12,13,14,15]],\n",
        "                   [[16,17,18,19,20],\n",
        "                  [21,22,23,24,25],\n",
        "                  [26,27,28,29,30]]])\n",
        "\n",
        "print(arr, arr.shape) # Prints the array and its dimensions\n",
        "print(arr_2d, arr_2d.shape)\n",
        "print(arr_3d, arr_3d.shape)\n",
        "\n",
        "print(type(arr))      # Numpy array has 'numpy.ndarray' type"
      ]
    },
    {
      "cell_type": "markdown",
      "metadata": {
        "id": "FhkfogOIwB7S"
      },
      "source": [
        "## Creating numpy arrays from numpy commands"
      ]
    },
    {
      "cell_type": "code",
      "execution_count": null,
      "metadata": {
        "id": "ceKz9vlEnBqu"
      },
      "outputs": [],
      "source": [
        "# Define number of each dimension \n",
        "\n",
        "n1 = 3\n",
        "n2 = 4\n",
        "n3 = 5\n",
        "\n",
        "# Zeros array\n",
        "zeros_1d = np.zeros(n1)\n",
        "zeros_2d = np.zeros((n1,n2)) \n",
        "zeros_3d = np.zeros((n1,n2,n3))\n",
        "\n",
        "# Ones array\n",
        "ones_1d = np.ones(n1)\n",
        "ones_2d = np.ones((n1,n2))\n",
        "ones_3d = np.ones((n1,n2,n3))\n",
        "\n",
        "# Creating array using np.arange\n",
        "arr_arange = np.arange(0, 10, 1)     # (start, stop, stepsize)\n",
        "\n",
        "# Creating an array using np.linspace\n",
        "arr_linspace = np.linspace(0, 9, 10) # (start, stop, # of bins)\n",
        "\n",
        "print(zeros_2d)\n",
        "print(ones_2d)\n",
        "print(arr_arange)\n",
        "print(arr_linspace)"
      ]
    },
    {
      "cell_type": "code",
      "execution_count": null,
      "metadata": {
        "id": "fjIAvYMrnBb3"
      },
      "outputs": [],
      "source": [
        "# Random array\n",
        "\n",
        "np.random.seed(10)                 # Fixes the seed number so that random samplings always give same results\n",
        "\n",
        "rand_arr = np.random.randn(n1, n2) # Random array sampled from standard normal distribution \n",
        "print(rand_arr)"
      ]
    },
    {
      "cell_type": "markdown",
      "metadata": {
        "id": "v41QUq4BXaxT"
      },
      "source": [
        "## Matrix operations in Numpy"
      ]
    },
    {
      "cell_type": "code",
      "execution_count": null,
      "metadata": {
        "id": "2uXeiCfXoxPY"
      },
      "outputs": [],
      "source": [
        "# Elementwise Addition\n",
        "twos_2d = np.add(ones_2d, ones_2d)\n",
        "print(twos_2d)"
      ]
    },
    {
      "cell_type": "code",
      "execution_count": null,
      "metadata": {
        "id": "DfKXv1wM0bvP"
      },
      "outputs": [],
      "source": [
        "# Elementwise Subtraction\n",
        "fives_2d = ones_2d * 5\n",
        "print(np.subtract(fives_2d, twos_2d))\n",
        "print(fives_2d - 2) #alternative method"
      ]
    },
    {
      "cell_type": "code",
      "execution_count": null,
      "metadata": {
        "id": "T2d1aX6N0b4G"
      },
      "outputs": [],
      "source": [
        "# Elementwise Multiplication\n",
        "print(np.multiply(fives_2d, twos_2d))"
      ]
    },
    {
      "cell_type": "code",
      "execution_count": null,
      "metadata": {
        "id": "iFDSf2i80b-i"
      },
      "outputs": [],
      "source": [
        "# Elementwise Division\n",
        "print(np.divide(fives_2d, twos_2d))"
      ]
    },
    {
      "cell_type": "code",
      "execution_count": null,
      "metadata": {
        "id": "xIzmQ9xz0cF1"
      },
      "outputs": [],
      "source": [
        "# Dot product\n",
        "A = ones_2d.copy()\n",
        "b = np.arange(0, 4, 1)\n",
        "print(np.dot(A, b))"
      ]
    },
    {
      "cell_type": "code",
      "execution_count": null,
      "metadata": {
        "id": "LdQw7pG40cKk"
      },
      "outputs": [],
      "source": [
        "# Elementwise Power \n",
        "print(np.power(twos_2d, 3)) #(array to be powered, power constant)"
      ]
    },
    {
      "cell_type": "code",
      "execution_count": null,
      "metadata": {
        "id": "um1ouxr10cPP"
      },
      "outputs": [],
      "source": [
        "# Transpose\n",
        "print(ones_2d)\n",
        "print(ones_2d.T)             # method 1\n",
        "print(np.transpose(ones_2d)) # method 2"
      ]
    },
    {
      "cell_type": "markdown",
      "metadata": {
        "id": "Wjz11P4YXN-K"
      },
      "source": [
        "## Useful Numpy functions"
      ]
    },
    {
      "cell_type": "code",
      "execution_count": null,
      "metadata": {
        "id": "XUI0IGSopXwL"
      },
      "outputs": [],
      "source": [
        "# np.concatenate\n",
        "\n",
        "print(np.concatenate([ones_1d, zeros_1d])) # Concatenation between 1D arrays joins them into a single array"
      ]
    },
    {
      "cell_type": "code",
      "execution_count": null,
      "metadata": {
        "id": "r9IsCt-J1QZj"
      },
      "outputs": [],
      "source": [
        "# np.stack (vstack and hstack)\n",
        "\n",
        "print(np.stack([ones_2d, twos_2d]))  # np.stack([2D, 2D]) outputs 3D array\n",
        "print(np.hstack([ones_2d, twos_2d])) # np.hstack([2D, 2D]) outputs horizontally stacked 2D arrays \n",
        "print(np.vstack([ones_2d, twos_2d])) # np.vstack([2D, 2D]) outputs vertically stacked 2D arrays"
      ]
    },
    {
      "cell_type": "code",
      "execution_count": null,
      "metadata": {
        "id": "g5EbGpMQ1QdU"
      },
      "outputs": [],
      "source": [
        "# np.min, np.max, np.mean, np.sum\n",
        "\n",
        "arr = np.arange(10) # 0 to 9\n",
        "\n",
        "print(np.min(arr))  # minimum value of the array\n",
        "print(np.max(arr))  # maximum value of the array\n",
        "print(np.mean(arr)) # mean value of the array\n",
        "print(np.sum(arr))  # summation of all the elements"
      ]
    },
    {
      "cell_type": "code",
      "execution_count": null,
      "metadata": {
        "id": "N5zuvOrgCrtt"
      },
      "outputs": [],
      "source": [
        "# np.argmin, np.argmax, np.argsort\n",
        "\n",
        "print(np.argmin(arr))  # Finds the index corresponding to minimum value\n",
        "print(np.argmax(arr))  # Finds the index corresponding to maximum value\n",
        "\n",
        "np.random.shuffle(arr) # Shuffles the array\n",
        "print(arr)             # Shuffled array\n",
        "\n",
        "print(np.argsort(arr)) # Sorts the array indices from the smallest to the largest value"
      ]
    },
    {
      "cell_type": "code",
      "execution_count": null,
      "metadata": {
        "id": "uW9JWnx_1Qg6"
      },
      "outputs": [],
      "source": [
        "# np.where\n",
        "\n",
        "print(np.where(arr == 7)) # Finds the specific indicies in the array that satisfies the condition\n",
        "print(np.where(arr >= 7)) # Another example using inequality"
      ]
    },
    {
      "cell_type": "markdown",
      "metadata": {
        "id": "fEa52rt8RFuF"
      },
      "source": [
        "# Part 2: Plotting Data"
      ]
    },
    {
      "cell_type": "code",
      "execution_count": null,
      "metadata": {
        "id": "0fCxTUn0UrVy"
      },
      "outputs": [],
      "source": [
        "#%matplotlib inline   # If using local notebook runtime, allows you to display the plot inside the jupyter notebook\n",
        "#%matplotlib notebook # Alternatively, you can use this line instead for interactive plots\n",
        "\n",
        "import matplotlib.pyplot as plt"
      ]
    },
    {
      "cell_type": "markdown",
      "metadata": {
        "id": "zROYzASTqm1c"
      },
      "source": [
        "## Basic plotting"
      ]
    },
    {
      "cell_type": "code",
      "execution_count": null,
      "metadata": {
        "id": "Sq1iXwigqH7l"
      },
      "outputs": [],
      "source": [
        "x = np.arange(0, 10, 1/32) # x axis data\n",
        "y = np.sin(x)              # y axis data\n",
        "plt.plot(x, y)             # plot the data"
      ]
    },
    {
      "cell_type": "markdown",
      "metadata": {
        "id": "g8E9UK4hqpcF"
      },
      "source": [
        "## Labeling your plots"
      ]
    },
    {
      "cell_type": "code",
      "execution_count": null,
      "metadata": {
        "id": "9vRpvao1qIpk"
      },
      "outputs": [],
      "source": [
        "plt.plot(x, y) \n",
        "plt.title('y=sin(x)')  # set the title\n",
        "plt.xlabel('x')        # set the x axis label\n",
        "plt.ylabel('y')        # set the y axis label\n",
        "plt.xlim(-1, 11)       # set the x axis range\n",
        "plt.ylim(-2, 2)        # set the y axis range\n",
        "plt.grid()             # enable the grid"
      ]
    },
    {
      "cell_type": "markdown",
      "metadata": {
        "id": "rnzo9q8Eqtn8"
      },
      "source": [
        "## Multiple plots"
      ]
    },
    {
      "cell_type": "code",
      "execution_count": null,
      "metadata": {
        "id": "nalHV8J1qIhs"
      },
      "outputs": [],
      "source": [
        "# Multiple Plots\n",
        "# On same figure \n",
        "x = np.arange(0, 10, 1/32) # x axis data\n",
        "y1 = np.sin(x)             # y axis data 1\n",
        "y2 = np.cos(x)             # y axis data 2\n",
        "y3 = np.tan(x)             # y axis data 3\n",
        "plt.figure(1)              # create figure 1\n",
        "plt.plot(x, y1, label='sin(x)')\n",
        "plt.plot(x, y2, label='cos(x)')\n",
        "plt.plot(x, y3, label='tan(x)')\n",
        "plt.xlabel('x')\n",
        "plt.ylabel('y')\n",
        "plt.xlim(-1, 11)\n",
        "plt.ylim(-2, 2)\n",
        "plt.suptitle('Trigonometric Functions')\n",
        "plt.legend()\n",
        "plt.show()\n"
      ]
    },
    {
      "cell_type": "markdown",
      "metadata": {
        "id": "p-PHYpYDqvko"
      },
      "source": [
        "## Creating subplots"
      ]
    },
    {
      "cell_type": "code",
      "execution_count": null,
      "metadata": {
        "id": "CDDlHgGhqMei"
      },
      "outputs": [],
      "source": [
        "# Multiple Subplots\n",
        "x = np.arange(0, 10, 1/32) # x axis data\n",
        "y1 = np.sin(x)             # y axis data for subplot 1\n",
        "y2 = np.cos(x)             # y axis data for subplot 2\n",
        "y3 = np.tan(x)             # y axis data for subplot 3\n",
        "\n",
        "fig = plt.figure(2,figsize=(8,8)) # create figure 2\n",
        "\n",
        "plt.subplot(311)           # (number of rows, number of columns, current plot)\n",
        "plt.plot(x, y1)\n",
        "plt.title('sin(x)')\n",
        "plt.xlabel('x')\n",
        "plt.ylabel('y')\n",
        "\n",
        "plt.subplot(312)\n",
        "plt.plot(x, y2)\n",
        "plt.title('cos(x)')\n",
        "plt.xlabel('x')\n",
        "plt.ylabel('y')\n",
        "\n",
        "plt.subplot(313)\n",
        "plt.plot(x, y3)\n",
        "plt.title('tan(x)')\n",
        "plt.xlabel('x')\n",
        "plt.ylabel('y')\n",
        "plt.ylim(-1, 1)\n",
        "\n",
        "fig.tight_layout()"
      ]
    },
    {
      "cell_type": "markdown",
      "metadata": {
        "id": "uzEd0yNS_L8S"
      },
      "source": [
        "# Part 3: Working with data\n"
      ]
    },
    {
      "cell_type": "code",
      "execution_count": null,
      "metadata": {
        "id": "tVXqp0NxxTuW"
      },
      "outputs": [],
      "source": [
        "import pandas as pd\n",
        "import sklearn\n",
        "\n",
        "# Import necessary modules\n",
        "from sklearn.linear_model import LogisticRegressionCV\n",
        "\n",
        "diabetes = pd.read_csv('diabetes.csv') # Read the dataset with pandas\n",
        "diabetes.head() # Display the head of the data"
      ]
    },
    {
      "cell_type": "code",
      "execution_count": null,
      "metadata": {
        "id": "U3HEWis0xTuW"
      },
      "outputs": [],
      "source": [
        "# Scaling the data\n",
        "\n",
        "X1 = diabetes.values[:, :-1]                                              # Extract features\n",
        "Y1 = diabetes.values[:, -1]                                               # Extract labels\n",
        "\n",
        "# Scale the data z = (x - u) / s\n",
        "\n",
        "X1_mean = np.mean(X1, axis = 0)                                           # Compute means\n",
        "X1_std = np.std(X1, axis = 0)                                             # Compute stds\n",
        "X1_mean_repeated = np.tile(X1_mean, (len(X1), 1))                         # Create repeated array of mean to match X1 dimension\n",
        "X1_std_repeated = np.tile(X1_std, (len(X1), 1))                           # Create repeated array of std to match X1 dimension\n",
        "X1_scaled = np.divide(np.subtract(X1, X1_mean_repeated), X1_std_repeated) # Compute z for the array"
      ]
    },
    {
      "cell_type": "code",
      "execution_count": null,
      "metadata": {
        "id": "qXyy3TO1xTuX"
      },
      "outputs": [],
      "source": [
        "# Divide the data into training and testing\n",
        "\n",
        "test_ratio = 0.3                              # Set the test data ratio\n",
        "train_size = int(len(X1)*(1-test_ratio))      # Set training data size based on test ratio\n",
        "\n",
        "X_train = X1_scaled[:train_size]              \n",
        "X_test = X1_scaled[train_size:]\n",
        "Y_train = Y1[:train_size]\n",
        "Y_test = Y1[train_size:]"
      ]
    },
    {
      "cell_type": "code",
      "execution_count": null,
      "metadata": {
        "id": "X-ZnXwDlxTuX"
      },
      "outputs": [],
      "source": [
        "# Use cross validation to train\n",
        "model = LogisticRegressionCV(cv=10).fit(X_train, Y_train)\n",
        "result = model.score(X_test, Y_test)\n",
        "\n",
        "print(\"Accuracy: %.2f%%\" % (result*100))"
      ]
    },
    {
      "cell_type": "markdown",
      "metadata": {
        "id": "x7xmkhCeSc_m"
      },
      "source": [
        "# Lab Assignment: Implement Neural Network for XOR gate from scratch \n"
      ]
    },
    {
      "cell_type": "code",
      "execution_count": 23,
      "metadata": {
        "id": "1Lu3k4tgRKMU",
        "outputId": "0e47f81e-9b89-4a44-affa-856130c03ec1",
        "colab": {
          "base_uri": "https://localhost:8080/",
          "height": 175
        }
      },
      "outputs": [
        {
          "output_type": "execute_result",
          "data": {
            "text/plain": [
              "   x1  x2  y\n",
              "0   0   0  0\n",
              "1   0   1  1\n",
              "2   1   0  1\n",
              "3   1   1  0"
            ],
            "text/html": [
              "\n",
              "  <div id=\"df-b49d2894-d2ca-4fb0-9d7f-bb75807ba225\">\n",
              "    <div class=\"colab-df-container\">\n",
              "      <div>\n",
              "<style scoped>\n",
              "    .dataframe tbody tr th:only-of-type {\n",
              "        vertical-align: middle;\n",
              "    }\n",
              "\n",
              "    .dataframe tbody tr th {\n",
              "        vertical-align: top;\n",
              "    }\n",
              "\n",
              "    .dataframe thead th {\n",
              "        text-align: right;\n",
              "    }\n",
              "</style>\n",
              "<table border=\"1\" class=\"dataframe\">\n",
              "  <thead>\n",
              "    <tr style=\"text-align: right;\">\n",
              "      <th></th>\n",
              "      <th>x1</th>\n",
              "      <th>x2</th>\n",
              "      <th>y</th>\n",
              "    </tr>\n",
              "  </thead>\n",
              "  <tbody>\n",
              "    <tr>\n",
              "      <th>0</th>\n",
              "      <td>0</td>\n",
              "      <td>0</td>\n",
              "      <td>0</td>\n",
              "    </tr>\n",
              "    <tr>\n",
              "      <th>1</th>\n",
              "      <td>0</td>\n",
              "      <td>1</td>\n",
              "      <td>1</td>\n",
              "    </tr>\n",
              "    <tr>\n",
              "      <th>2</th>\n",
              "      <td>1</td>\n",
              "      <td>0</td>\n",
              "      <td>1</td>\n",
              "    </tr>\n",
              "    <tr>\n",
              "      <th>3</th>\n",
              "      <td>1</td>\n",
              "      <td>1</td>\n",
              "      <td>0</td>\n",
              "    </tr>\n",
              "  </tbody>\n",
              "</table>\n",
              "</div>\n",
              "      <button class=\"colab-df-convert\" onclick=\"convertToInteractive('df-b49d2894-d2ca-4fb0-9d7f-bb75807ba225')\"\n",
              "              title=\"Convert this dataframe to an interactive table.\"\n",
              "              style=\"display:none;\">\n",
              "        \n",
              "  <svg xmlns=\"http://www.w3.org/2000/svg\" height=\"24px\"viewBox=\"0 0 24 24\"\n",
              "       width=\"24px\">\n",
              "    <path d=\"M0 0h24v24H0V0z\" fill=\"none\"/>\n",
              "    <path d=\"M18.56 5.44l.94 2.06.94-2.06 2.06-.94-2.06-.94-.94-2.06-.94 2.06-2.06.94zm-11 1L8.5 8.5l.94-2.06 2.06-.94-2.06-.94L8.5 2.5l-.94 2.06-2.06.94zm10 10l.94 2.06.94-2.06 2.06-.94-2.06-.94-.94-2.06-.94 2.06-2.06.94z\"/><path d=\"M17.41 7.96l-1.37-1.37c-.4-.4-.92-.59-1.43-.59-.52 0-1.04.2-1.43.59L10.3 9.45l-7.72 7.72c-.78.78-.78 2.05 0 2.83L4 21.41c.39.39.9.59 1.41.59.51 0 1.02-.2 1.41-.59l7.78-7.78 2.81-2.81c.8-.78.8-2.07 0-2.86zM5.41 20L4 18.59l7.72-7.72 1.47 1.35L5.41 20z\"/>\n",
              "  </svg>\n",
              "      </button>\n",
              "      \n",
              "  <style>\n",
              "    .colab-df-container {\n",
              "      display:flex;\n",
              "      flex-wrap:wrap;\n",
              "      gap: 12px;\n",
              "    }\n",
              "\n",
              "    .colab-df-convert {\n",
              "      background-color: #E8F0FE;\n",
              "      border: none;\n",
              "      border-radius: 50%;\n",
              "      cursor: pointer;\n",
              "      display: none;\n",
              "      fill: #1967D2;\n",
              "      height: 32px;\n",
              "      padding: 0 0 0 0;\n",
              "      width: 32px;\n",
              "    }\n",
              "\n",
              "    .colab-df-convert:hover {\n",
              "      background-color: #E2EBFA;\n",
              "      box-shadow: 0px 1px 2px rgba(60, 64, 67, 0.3), 0px 1px 3px 1px rgba(60, 64, 67, 0.15);\n",
              "      fill: #174EA6;\n",
              "    }\n",
              "\n",
              "    [theme=dark] .colab-df-convert {\n",
              "      background-color: #3B4455;\n",
              "      fill: #D2E3FC;\n",
              "    }\n",
              "\n",
              "    [theme=dark] .colab-df-convert:hover {\n",
              "      background-color: #434B5C;\n",
              "      box-shadow: 0px 1px 3px 1px rgba(0, 0, 0, 0.15);\n",
              "      filter: drop-shadow(0px 1px 2px rgba(0, 0, 0, 0.3));\n",
              "      fill: #FFFFFF;\n",
              "    }\n",
              "  </style>\n",
              "\n",
              "      <script>\n",
              "        const buttonEl =\n",
              "          document.querySelector('#df-b49d2894-d2ca-4fb0-9d7f-bb75807ba225 button.colab-df-convert');\n",
              "        buttonEl.style.display =\n",
              "          google.colab.kernel.accessAllowed ? 'block' : 'none';\n",
              "\n",
              "        async function convertToInteractive(key) {\n",
              "          const element = document.querySelector('#df-b49d2894-d2ca-4fb0-9d7f-bb75807ba225');\n",
              "          const dataTable =\n",
              "            await google.colab.kernel.invokeFunction('convertToInteractive',\n",
              "                                                     [key], {});\n",
              "          if (!dataTable) return;\n",
              "\n",
              "          const docLinkHtml = 'Like what you see? Visit the ' +\n",
              "            '<a target=\"_blank\" href=https://colab.research.google.com/notebooks/data_table.ipynb>data table notebook</a>'\n",
              "            + ' to learn more about interactive tables.';\n",
              "          element.innerHTML = '';\n",
              "          dataTable['output_type'] = 'display_data';\n",
              "          await google.colab.output.renderOutput(dataTable, element);\n",
              "          const docLink = document.createElement('div');\n",
              "          docLink.innerHTML = docLinkHtml;\n",
              "          element.appendChild(docLink);\n",
              "        }\n",
              "      </script>\n",
              "    </div>\n",
              "  </div>\n",
              "  "
            ]
          },
          "metadata": {},
          "execution_count": 23
        }
      ],
      "source": [
        "# XOR table\n",
        "import pandas as pd, numpy as np, matplotlib.pyplot as plt\n",
        "XOR_table = pd.read_csv('XOR_table.csv')\n",
        "XOR_table"
      ]
    },
    {
      "cell_type": "markdown",
      "metadata": {
        "id": "Y4yhYFD4h3eR"
      },
      "source": [
        "![](https://drive.google.com/uc?export=view&id=1lf82hKZxfBqhV2m5cLIRO_9pO1S3T4ty)"
      ]
    },
    {
      "cell_type": "code",
      "execution_count": 24,
      "metadata": {
        "id": "_oCWE2KK_vVr",
        "outputId": "c482cfb9-c408-4688-e7d9-0c01a10d2ddb",
        "colab": {
          "base_uri": "https://localhost:8080/"
        }
      },
      "outputs": [
        {
          "output_type": "stream",
          "name": "stdout",
          "text": [
            "[[0 0]\n",
            " [0 1]]\n",
            "[[0]\n",
            " [1]]\n"
          ]
        }
      ],
      "source": [
        "XOR_table = XOR_table.values\n",
        "X_values = XOR_table[:, :2]\n",
        "X = X_values[0:2]\n",
        "targets = XOR_table[0:2,-1].reshape(-1,1)\n",
        "\n",
        "print(X)       # Input data\n",
        "print(targets) # Output targets"
      ]
    },
    {
      "cell_type": "code",
      "execution_count": 27,
      "metadata": {
        "id": "J7L0PtiRjNr5",
        "colab": {
          "base_uri": "https://localhost:8080/",
          "height": 283
        },
        "outputId": "eb1e66b6-1dde-4ac5-b493-b55ac6591094"
      },
      "outputs": [
        {
          "output_type": "execute_result",
          "data": {
            "text/plain": [
              "[<matplotlib.lines.Line2D at 0x7fca2cfd9590>]"
            ]
          },
          "metadata": {},
          "execution_count": 27
        },
        {
          "output_type": "display_data",
          "data": {
            "text/plain": [
              "<Figure size 432x288 with 1 Axes>"
            ],
            "image/png": "[encoded data removed]"
          },
          "metadata": {
            "needs_background": "light"
          }
        }
      ],
      "source": [
        "# First set a seed for consistent results\n",
        "np.random.seed(5)\n",
        "\n",
        "# Define dimensions on input, hidden and output layers\n",
        "# There are two input neurons, two in hidden layer, and one output\n",
        "input_dim, hidden_dim, output_dim = 2,2,1\n",
        "\n",
        "# Define learning rate\n",
        "learning_rate=0.01\n",
        "\n",
        "# Define a hidden layer\n",
        "# We'll use a random distribution\n",
        "# W1=np.random.randn(input_dim, hidden_dim)\n",
        "W1 = np.random.normal(0,1,(hidden_dim, input_dim))\n",
        "# Define an output layer\n",
        "# W2=np.random.randn(hidden_dim, output_dim)\n",
        "W2 = np.random.normal(0,1,(hidden_dim, output_dim))\n",
        "\n",
        "# Define sigmoid activation function\n",
        "# if deriv = True, returns the derivative instead\n",
        "def sigmoid(x, deriv=False):\n",
        "  if deriv:\n",
        "    return x*(1-x)\n",
        "  else:\n",
        "    return 1/(1+np.exp(-x))\n",
        "\n",
        "# Define loss function\n",
        "def loss(y,t):\n",
        "  return (y-t)**2\n",
        "\n",
        "# define empty array to store loss function output\n",
        "loss_vals = []\n",
        "\n",
        "for i in range(10000):\n",
        "\n",
        "  # Forward pass: compute predicted y\n",
        "  z = sigmoid(np.dot(X,W1))\n",
        "  y = sigmoid(np.dot(z,W2))\n",
        "\n",
        "  # Compute and print L2-norm loss\n",
        "  #print(loss(y,targets))\n",
        "  #print(y)\n",
        "\n",
        "  # Backprop to compute gradients of w1 and w2 with respect to L2-norm loss\n",
        "  error = 2*(y-targets)\n",
        "  grad_w2 = np.dot((error*sigmoid(y, deriv=True)).T, z).T\n",
        "\n",
        "  g1 = np.dot(error*sigmoid(y,deriv=True), W2.T)\n",
        "  g2 = sigmoid(z, deriv=True)*X\n",
        "  grad_w1 = np.dot(g1.T, g2)\n",
        "\n",
        "  # Update weights\n",
        "  W1 -= learning_rate*grad_w1\n",
        "  W2 -= learning_rate*grad_w2\n",
        "\n",
        "  # Save loss to an array\n",
        "  loss_vals.append(np.sum(loss(y,targets)))\n",
        "\n",
        "%matplotlib inline\n",
        "plt.plot(loss_vals)"
      ]
    },
    {
      "cell_type": "code",
      "source": [
        " g1 = np.dot(error*sigmoid(y,deriv=True), W2.T)\n",
        "g2 = sigmoid(z, deriv=True)*X"
      ],
      "metadata": {
        "id": "lwjmoG7Pxgwa"
      },
      "execution_count": 317,
      "outputs": []
    },
    {
      "cell_type": "code",
      "source": [
        "y"
      ],
      "metadata": {
        "colab": {
          "base_uri": "https://localhost:8080/"
        },
        "id": "arLEZ8OsKC5K",
        "outputId": "43e171f3-195d-42a6-8318-203d4137ff06"
      },
      "execution_count": 28,
      "outputs": [
        {
          "output_type": "execute_result",
          "data": {
            "text/plain": [
              "array([[0.34851659],\n",
              "       [0.7416797 ]])"
            ]
          },
          "metadata": {},
          "execution_count": 28
        }
      ]
    },
    {
      "cell_type": "code",
      "source": [
        "def loss(y,t):\n",
        "  return np.sum(np.power(y-t,2))\n",
        "\n",
        "loss_vals = []\n",
        "# First set a seed for consistent results\n",
        "np.random.seed(563)\n",
        "\n",
        "# Define dimensions on input, hidden and output layers\n",
        "input_dim, hidden_dim, output_dim = 2,2,1\n",
        "\n",
        "# Define learning rate\n",
        "learning_rate=0.2\n",
        "\n",
        "# Define a hidden layer\n",
        "# We'll use a random distribution\n",
        "W1=np.random.randn(input_dim, hidden_dim)\n",
        "# Define an output layer\n",
        "W2=np.random.randn(hidden_dim, output_dim)\n",
        "\n",
        "# Forward pass: compute predicted y\n",
        "z = sigmoid(np.dot(X,W1))\n",
        "y = sigmoid(np.dot(z,W2))\n",
        "\n",
        "# Compute and print L2-norm loss\n",
        "# print(loss(y,targets))\n",
        "print(y)\n",
        "\n",
        "# Backprop to compute gradients of w1 and w2 with respect to L2-norm loss\n",
        "f1 = 2*(y-targets)*y*(1-y)\n",
        "grad_w2 = np.dot(f1.T, z).T\n",
        "\n",
        "g1 = np.dot((2*(y-targets)*y*(1-y)).T,W2)\n",
        "g2 = z*(1-z)*X\n",
        "grad_w1 = np.dot(g1,g2)\n",
        "\n",
        "# Update weights\n",
        "W1 = W1-learning_rate*grad_w1\n",
        "W2 = W2-learning_rate*grad_w2\n",
        "# Save loss to an array\n",
        "loss_vals.append(loss(y,targets))\n"
      ],
      "metadata": {
        "colab": {
          "base_uri": "https://localhost:8080/"
        },
        "id": "NEEfFKKjxhuD",
        "outputId": "20ff0752-10cb-4c6b-9753-4995a91b4525"
      },
      "execution_count": 215,
      "outputs": [
        {
          "output_type": "stream",
          "name": "stdout",
          "text": [
            "[[0.86347302]\n",
            " [0.76048742]\n",
            " [0.86793185]\n",
            " [0.77289826]]\n"
          ]
        }
      ]
    },
    {
      "cell_type": "code",
      "source": [
        "X[:,0]"
      ],
      "metadata": {
        "colab": {
          "base_uri": "https://localhost:8080/"
        },
        "id": "60Xk6DG2zAqp",
        "outputId": "7552ab46-908d-476a-b569-7af44836bd4a"
      },
      "execution_count": 353,
      "outputs": [
        {
          "output_type": "execute_result",
          "data": {
            "text/plain": [
              "array([0, 0, 1, 1])"
            ]
          },
          "metadata": {},
          "execution_count": 353
        }
      ]
    },
    {
      "cell_type": "code",
      "source": [
        "%matplotlib inline\n",
        "XOR = pd.DataFrame({'x1': (0,0,1,1), 'x2': (0,1,0,1), 'y': (0,1,1,0)})\n",
        "\n",
        "plt.scatter([0,1],[0,1]);\n",
        "plt.scatter([0,1], [1,0]);"
      ],
      "metadata": {
        "colab": {
          "base_uri": "https://localhost:8080/",
          "height": 282
        },
        "id": "G608KhRH5w9W",
        "outputId": "3d0e3277-626f-4779-ec30-4ce0e8076a5b"
      },
      "execution_count": 356,
      "outputs": [
        {
          "output_type": "execute_result",
          "data": {
            "text/plain": [
              "<matplotlib.collections.PathCollection at 0x7faf498f81d0>"
            ]
          },
          "metadata": {},
          "execution_count": 356
        },
        {
          "output_type": "display_data",
          "data": {
            "text/plain": [
              "<Figure size 432x288 with 1 Axes>"
            ],
            "image/png": "[encoded data removed]"
          },
          "metadata": {
            "needs_background": "light"
          }
        }
      ]
    },
    {
      "cell_type": "code",
      "source": [
        "g2"
      ],
      "metadata": {
        "colab": {
          "base_uri": "https://localhost:8080/"
        },
        "id": "A_7d6Dkr5xxZ",
        "outputId": "023dd9c6-a76e-4593-b4b9-941fc0534c49"
      },
      "execution_count": 167,
      "outputs": [
        {
          "output_type": "execute_result",
          "data": {
            "text/plain": [
              "array([[0.18431368, 0.34264217],\n",
              "       [0.20188596, 0.35686114]])"
            ]
          },
          "metadata": {},
          "execution_count": 167
        }
      ]
    },
    {
      "cell_type": "code",
      "source": [
        "Xtr"
      ],
      "metadata": {
        "colab": {
          "base_uri": "https://localhost:8080/"
        },
        "id": "E4KnSQkTAbpR",
        "outputId": "9c233de9-3e53-4ea8-c2ba-7ea55ddf191d"
      },
      "execution_count": 8,
      "outputs": [
        {
          "output_type": "execute_result",
          "data": {
            "text/plain": [
              "array([[0, 0],\n",
              "       [0, 1],\n",
              "       [1, 0]])"
            ]
          },
          "metadata": {},
          "execution_count": 8
        }
      ]
    },
    {
      "cell_type": "code",
      "source": [
        " XOR_table[0:3,-1].reshape(-1,1)"
      ],
      "metadata": {
        "colab": {
          "base_uri": "https://localhost:8080/"
        },
        "id": "agsif00IArbh",
        "outputId": "8b2d9004-bac5-4eb1-ba48-f55024126dfc"
      },
      "execution_count": 18,
      "outputs": [
        {
          "output_type": "execute_result",
          "data": {
            "text/plain": [
              "array([[0],\n",
              "       [1],\n",
              "       [1]])"
            ]
          },
          "metadata": {},
          "execution_count": 18
        }
      ]
    },
    {
      "cell_type": "code",
      "source": [
        ""
      ],
      "metadata": {
        "id": "2nqcUmBpT35-"
      },
      "execution_count": null,
      "outputs": []
    }
  ],
  "metadata": {
    "colab": {
      "collapsed_sections": [],
      "name": "Lab1.ipynb",
      "provenance": []
    },
    "kernelspec": {
      "display_name": "Python 3",
      "language": "python",
      "name": "python3"
    },
    "language_info": {
      "codemirror_mode": {
        "name": "ipython",
        "version": 3
      },
      "file_extension": ".py",
      "mimetype": "text/x-python",
      "name": "python",
      "nbconvert_exporter": "python",
      "pygments_lexer": "ipython3",
      "version": "3.8.5"
    }
  },
  "nbformat": 4,
  "nbformat_minor": 0
}