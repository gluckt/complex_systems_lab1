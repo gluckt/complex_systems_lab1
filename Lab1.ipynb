{
  "cells": [
    {
      "cell_type": "markdown",
      "metadata": {
        "id": "VOBjwKeEm7nQ"
      },
      "source": [
        "# Lab 1: Introduction\n"
      ]
    },
    {
      "cell_type": "markdown",
      "metadata": {
        "id": "2CMkjFYsQuxF"
      },
      "source": [
        "# Part 1: Using Numpy"
      ]
    },
    {
      "cell_type": "code",
      "execution_count": null,
      "metadata": {
        "id": "yXRToE9Dmmwo"
      },
      "outputs": [],
      "source": [
        "import numpy as np # import numpy"
      ]
    },
    {
      "cell_type": "markdown",
      "metadata": {
        "id": "UYyIqkVTXKLg"
      },
      "source": [
        "## Creating n-dimensional numpy arrays from Python lists"
      ]
    },
    {
      "cell_type": "code",
      "execution_count": null,
      "metadata": {
        "id": "YW5M33PomPQ0"
      },
      "outputs": [],
      "source": [
        "# Defining a numpy array \n",
        "\n",
        "# 1D array\n",
        "arr = np.array([1,2,3,4,5]) \n",
        "\n",
        "# 2D array\n",
        "arr_2d = np.array([[1,2,3,4,5],\n",
        "                  [6,7,8,9,10],\n",
        "                  [11,12,13,14,15]])\n",
        "\n",
        "# 3D array\n",
        "arr_3d = np.array([[[1,2,3,4,5],\n",
        "                  [6,7,8,9,10],\n",
        "                  [11,12,13,14,15]],\n",
        "                   [[16,17,18,19,20],\n",
        "                  [21,22,23,24,25],\n",
        "                  [26,27,28,29,30]]])\n",
        "\n",
        "print(arr, arr.shape) # Prints the array and its dimensions\n",
        "print(arr_2d, arr_2d.shape)\n",
        "print(arr_3d, arr_3d.shape)\n",
        "\n",
        "print(type(arr))      # Numpy array has 'numpy.ndarray' type"
      ]
    },
    {
      "cell_type": "markdown",
      "metadata": {
        "id": "FhkfogOIwB7S"
      },
      "source": [
        "## Creating numpy arrays from numpy commands"
      ]
    },
    {
      "cell_type": "code",
      "execution_count": null,
      "metadata": {
        "id": "ceKz9vlEnBqu"
      },
      "outputs": [],
      "source": [
        "# Define number of each dimension \n",
        "\n",
        "n1 = 3\n",
        "n2 = 4\n",
        "n3 = 5\n",
        "\n",
        "# Zeros array\n",
        "zeros_1d = np.zeros(n1)\n",
        "zeros_2d = np.zeros((n1,n2)) \n",
        "zeros_3d = np.zeros((n1,n2,n3))\n",
        "\n",
        "# Ones array\n",
        "ones_1d = np.ones(n1)\n",
        "ones_2d = np.ones((n1,n2))\n",
        "ones_3d = np.ones((n1,n2,n3))\n",
        "\n",
        "# Creating array using np.arange\n",
        "arr_arange = np.arange(0, 10, 1)     # (start, stop, stepsize)\n",
        "\n",
        "# Creating an array using np.linspace\n",
        "arr_linspace = np.linspace(0, 9, 10) # (start, stop, # of bins)\n",
        "\n",
        "print(zeros_2d)\n",
        "print(ones_2d)\n",
        "print(arr_arange)\n",
        "print(arr_linspace)"
      ]
    },
    {
      "cell_type": "code",
      "execution_count": null,
      "metadata": {
        "id": "fjIAvYMrnBb3"
      },
      "outputs": [],
      "source": [
        "# Random array\n",
        "\n",
        "np.random.seed(10)                 # Fixes the seed number so that random samplings always give same results\n",
        "\n",
        "rand_arr = np.random.randn(n1, n2) # Random array sampled from standard normal distribution \n",
        "print(rand_arr)"
      ]
    },
    {
      "cell_type": "markdown",
      "metadata": {
        "id": "v41QUq4BXaxT"
      },
      "source": [
        "## Matrix operations in Numpy"
      ]
    },
    {
      "cell_type": "code",
      "execution_count": null,
      "metadata": {
        "id": "2uXeiCfXoxPY"
      },
      "outputs": [],
      "source": [
        "# Elementwise Addition\n",
        "twos_2d = np.add(ones_2d, ones_2d)\n",
        "print(twos_2d)"
      ]
    },
    {
      "cell_type": "code",
      "execution_count": null,
      "metadata": {
        "id": "DfKXv1wM0bvP"
      },
      "outputs": [],
      "source": [
        "# Elementwise Subtraction\n",
        "fives_2d = ones_2d * 5\n",
        "print(np.subtract(fives_2d, twos_2d))\n",
        "print(fives_2d - 2) #alternative method"
      ]
    },
    {
      "cell_type": "code",
      "execution_count": null,
      "metadata": {
        "id": "T2d1aX6N0b4G"
      },
      "outputs": [],
      "source": [
        "# Elementwise Multiplication\n",
        "print(np.multiply(fives_2d, twos_2d))"
      ]
    },
    {
      "cell_type": "code",
      "execution_count": null,
      "metadata": {
        "id": "iFDSf2i80b-i"
      },
      "outputs": [],
      "source": [
        "# Elementwise Division\n",
        "print(np.divide(fives_2d, twos_2d))"
      ]
    },
    {
      "cell_type": "code",
      "execution_count": null,
      "metadata": {
        "id": "xIzmQ9xz0cF1"
      },
      "outputs": [],
      "source": [
        "# Dot product\n",
        "A = ones_2d.copy()\n",
        "b = np.arange(0, 4, 1)\n",
        "print(np.dot(A, b))"
      ]
    },
    {
      "cell_type": "code",
      "execution_count": null,
      "metadata": {
        "id": "LdQw7pG40cKk"
      },
      "outputs": [],
      "source": [
        "# Elementwise Power \n",
        "print(np.power(twos_2d, 3)) #(array to be powered, power constant)"
      ]
    },
    {
      "cell_type": "code",
      "execution_count": null,
      "metadata": {
        "id": "um1ouxr10cPP"
      },
      "outputs": [],
      "source": [
        "# Transpose\n",
        "print(ones_2d)\n",
        "print(ones_2d.T)             # method 1\n",
        "print(np.transpose(ones_2d)) # method 2"
      ]
    },
    {
      "cell_type": "markdown",
      "metadata": {
        "id": "Wjz11P4YXN-K"
      },
      "source": [
        "## Useful Numpy functions"
      ]
    },
    {
      "cell_type": "code",
      "execution_count": null,
      "metadata": {
        "id": "XUI0IGSopXwL"
      },
      "outputs": [],
      "source": [
        "# np.concatenate\n",
        "\n",
        "print(np.concatenate([ones_1d, zeros_1d])) # Concatenation between 1D arrays joins them into a single array"
      ]
    },
    {
      "cell_type": "code",
      "execution_count": null,
      "metadata": {
        "id": "r9IsCt-J1QZj"
      },
      "outputs": [],
      "source": [
        "# np.stack (vstack and hstack)\n",
        "\n",
        "print(np.stack([ones_2d, twos_2d]))  # np.stack([2D, 2D]) outputs 3D array\n",
        "print(np.hstack([ones_2d, twos_2d])) # np.hstack([2D, 2D]) outputs horizontally stacked 2D arrays \n",
        "print(np.vstack([ones_2d, twos_2d])) # np.vstack([2D, 2D]) outputs vertically stacked 2D arrays"
      ]
    },
    {
      "cell_type": "code",
      "execution_count": null,
      "metadata": {
        "id": "g5EbGpMQ1QdU"
      },
      "outputs": [],
      "source": [
        "# np.min, np.max, np.mean, np.sum\n",
        "\n",
        "arr = np.arange(10) # 0 to 9\n",
        "\n",
        "print(np.min(arr))  # minimum value of the array\n",
        "print(np.max(arr))  # maximum value of the array\n",
        "print(np.mean(arr)) # mean value of the array\n",
        "print(np.sum(arr))  # summation of all the elements"
      ]
    },
    {
      "cell_type": "code",
      "execution_count": null,
      "metadata": {
        "id": "N5zuvOrgCrtt"
      },
      "outputs": [],
      "source": [
        "# np.argmin, np.argmax, np.argsort\n",
        "\n",
        "print(np.argmin(arr))  # Finds the index corresponding to minimum value\n",
        "print(np.argmax(arr))  # Finds the index corresponding to maximum value\n",
        "\n",
        "np.random.shuffle(arr) # Shuffles the array\n",
        "print(arr)             # Shuffled array\n",
        "\n",
        "print(np.argsort(arr)) # Sorts the array indices from the smallest to the largest value"
      ]
    },
    {
      "cell_type": "code",
      "execution_count": null,
      "metadata": {
        "id": "uW9JWnx_1Qg6"
      },
      "outputs": [],
      "source": [
        "# np.where\n",
        "\n",
        "print(np.where(arr == 7)) # Finds the specific indicies in the array that satisfies the condition\n",
        "print(np.where(arr >= 7)) # Another example using inequality"
      ]
    },
    {
      "cell_type": "markdown",
      "metadata": {
        "id": "fEa52rt8RFuF"
      },
      "source": [
        "# Part 2: Plotting Data"
      ]
    },
    {
      "cell_type": "code",
      "execution_count": null,
      "metadata": {
        "id": "0fCxTUn0UrVy"
      },
      "outputs": [],
      "source": [
        "#%matplotlib inline   # If using local notebook runtime, allows you to display the plot inside the jupyter notebook\n",
        "#%matplotlib notebook # Alternatively, you can use this line instead for interactive plots\n",
        "\n",
        "import matplotlib.pyplot as plt"
      ]
    },
    {
      "cell_type": "markdown",
      "metadata": {
        "id": "zROYzASTqm1c"
      },
      "source": [
        "## Basic plotting"
      ]
    },
    {
      "cell_type": "code",
      "execution_count": null,
      "metadata": {
        "id": "Sq1iXwigqH7l"
      },
      "outputs": [],
      "source": [
        "x = np.arange(0, 10, 1/32) # x axis data\n",
        "y = np.sin(x)              # y axis data\n",
        "plt.plot(x, y)             # plot the data"
      ]
    },
    {
      "cell_type": "markdown",
      "metadata": {
        "id": "g8E9UK4hqpcF"
      },
      "source": [
        "## Labeling your plots"
      ]
    },
    {
      "cell_type": "code",
      "execution_count": null,
      "metadata": {
        "id": "9vRpvao1qIpk"
      },
      "outputs": [],
      "source": [
        "plt.plot(x, y) \n",
        "plt.title('y=sin(x)')  # set the title\n",
        "plt.xlabel('x')        # set the x axis label\n",
        "plt.ylabel('y')        # set the y axis label\n",
        "plt.xlim(-1, 11)       # set the x axis range\n",
        "plt.ylim(-2, 2)        # set the y axis range\n",
        "plt.grid()             # enable the grid"
      ]
    },
    {
      "cell_type": "markdown",
      "metadata": {
        "id": "rnzo9q8Eqtn8"
      },
      "source": [
        "## Multiple plots"
      ]
    },
    {
      "cell_type": "code",
      "execution_count": null,
      "metadata": {
        "id": "nalHV8J1qIhs"
      },
      "outputs": [],
      "source": [
        "# Multiple Plots\n",
        "# On same figure \n",
        "x = np.arange(0, 10, 1/32) # x axis data\n",
        "y1 = np.sin(x)             # y axis data 1\n",
        "y2 = np.cos(x)             # y axis data 2\n",
        "y3 = np.tan(x)             # y axis data 3\n",
        "plt.figure(1)              # create figure 1\n",
        "plt.plot(x, y1, label='sin(x)')\n",
        "plt.plot(x, y2, label='cos(x)')\n",
        "plt.plot(x, y3, label='tan(x)')\n",
        "plt.xlabel('x')\n",
        "plt.ylabel('y')\n",
        "plt.xlim(-1, 11)\n",
        "plt.ylim(-2, 2)\n",
        "plt.suptitle('Trigonometric Functions')\n",
        "plt.legend()\n",
        "plt.show()\n"
      ]
    },
    {
      "cell_type": "markdown",
      "metadata": {
        "id": "p-PHYpYDqvko"
      },
      "source": [
        "## Creating subplots"
      ]
    },
    {
      "cell_type": "code",
      "execution_count": null,
      "metadata": {
        "id": "CDDlHgGhqMei"
      },
      "outputs": [],
      "source": [
        "# Multiple Subplots\n",
        "x = np.arange(0, 10, 1/32) # x axis data\n",
        "y1 = np.sin(x)             # y axis data for subplot 1\n",
        "y2 = np.cos(x)             # y axis data for subplot 2\n",
        "y3 = np.tan(x)             # y axis data for subplot 3\n",
        "\n",
        "fig = plt.figure(2,figsize=(8,8)) # create figure 2\n",
        "\n",
        "plt.subplot(311)           # (number of rows, number of columns, current plot)\n",
        "plt.plot(x, y1)\n",
        "plt.title('sin(x)')\n",
        "plt.xlabel('x')\n",
        "plt.ylabel('y')\n",
        "\n",
        "plt.subplot(312)\n",
        "plt.plot(x, y2)\n",
        "plt.title('cos(x)')\n",
        "plt.xlabel('x')\n",
        "plt.ylabel('y')\n",
        "\n",
        "plt.subplot(313)\n",
        "plt.plot(x, y3)\n",
        "plt.title('tan(x)')\n",
        "plt.xlabel('x')\n",
        "plt.ylabel('y')\n",
        "plt.ylim(-1, 1)\n",
        "\n",
        "fig.tight_layout()"
      ]
    },
    {
      "cell_type": "markdown",
      "metadata": {
        "id": "uzEd0yNS_L8S"
      },
      "source": [
        "# Part 3: Working with data\n"
      ]
    },
    {
      "cell_type": "code",
      "execution_count": null,
      "metadata": {
        "id": "tVXqp0NxxTuW"
      },
      "outputs": [],
      "source": [
        "import pandas as pd\n",
        "import sklearn\n",
        "\n",
        "# Import necessary modules\n",
        "from sklearn.linear_model import LogisticRegressionCV\n",
        "\n",
        "diabetes = pd.read_csv('diabetes.csv') # Read the dataset with pandas\n",
        "diabetes.head() # Display the head of the data"
      ]
    },
    {
      "cell_type": "code",
      "execution_count": null,
      "metadata": {
        "id": "U3HEWis0xTuW"
      },
      "outputs": [],
      "source": [
        "# Scaling the data\n",
        "\n",
        "X1 = diabetes.values[:, :-1]                                              # Extract features\n",
        "Y1 = diabetes.values[:, -1]                                               # Extract labels\n",
        "\n",
        "# Scale the data z = (x - u) / s\n",
        "\n",
        "X1_mean = np.mean(X1, axis = 0)                                           # Compute means\n",
        "X1_std = np.std(X1, axis = 0)                                             # Compute stds\n",
        "X1_mean_repeated = np.tile(X1_mean, (len(X1), 1))                         # Create repeated array of mean to match X1 dimension\n",
        "X1_std_repeated = np.tile(X1_std, (len(X1), 1))                           # Create repeated array of std to match X1 dimension\n",
        "X1_scaled = np.divide(np.subtract(X1, X1_mean_repeated), X1_std_repeated) # Compute z for the array"
      ]
    },
    {
      "cell_type": "code",
      "execution_count": null,
      "metadata": {
        "id": "qXyy3TO1xTuX"
      },
      "outputs": [],
      "source": [
        "# Divide the data into training and testing\n",
        "\n",
        "test_ratio = 0.3                              # Set the test data ratio\n",
        "train_size = int(len(X1)*(1-test_ratio))      # Set training data size based on test ratio\n",
        "\n",
        "X_train = X1_scaled[:train_size]              \n",
        "X_test = X1_scaled[train_size:]\n",
        "Y_train = Y1[:train_size]\n",
        "Y_test = Y1[train_size:]"
      ]
    },
    {
      "cell_type": "code",
      "execution_count": null,
      "metadata": {
        "id": "X-ZnXwDlxTuX"
      },
      "outputs": [],
      "source": [
        "# Use cross validation to train\n",
        "model = LogisticRegressionCV(cv=10).fit(X_train, Y_train)\n",
        "result = model.score(X_test, Y_test)\n",
        "\n",
        "print(\"Accuracy: %.2f%%\" % (result*100))"
      ]
    },
    {
      "cell_type": "markdown",
      "metadata": {
        "id": "x7xmkhCeSc_m"
      },
      "source": [
        "# Lab Assignment: Implement Neural Network for XOR gate from scratch \n"
      ]
    },
    {
      "cell_type": "markdown",
      "source": [
        "First we will set up our enviroment. We will need `pandas` and `numpy` packages for data processing and `matplotlib` to visualize the performance of the NN later on."
      ],
      "metadata": {
        "id": "NURCh1opEzgy"
      }
    },
    {
      "cell_type": "code",
      "execution_count": 1,
      "metadata": {
        "id": "1Lu3k4tgRKMU",
        "outputId": "c16abd64-32d7-4630-d4cd-7b0ef7baa87d",
        "colab": {
          "base_uri": "https://localhost:8080/",
          "height": 175
        }
      },
      "outputs": [
        {
          "output_type": "execute_result",
          "data": {
            "text/plain": [
              "   x1  x2  y\n",
              "0   0   0  0\n",
              "1   0   1  1\n",
              "2   1   0  1\n",
              "3   1   1  0"
            ],
            "text/html": [
              "\n",
              "  <div id=\"df-7527eb99-7c61-4e10-8fd1-43e898fafb94\">\n",
              "    <div class=\"colab-df-container\">\n",
              "      <div>\n",
              "<style scoped>\n",
              "    .dataframe tbody tr th:only-of-type {\n",
              "        vertical-align: middle;\n",
              "    }\n",
              "\n",
              "    .dataframe tbody tr th {\n",
              "        vertical-align: top;\n",
              "    }\n",
              "\n",
              "    .dataframe thead th {\n",
              "        text-align: right;\n",
              "    }\n",
              "</style>\n",
              "<table border=\"1\" class=\"dataframe\">\n",
              "  <thead>\n",
              "    <tr style=\"text-align: right;\">\n",
              "      <th></th>\n",
              "      <th>x1</th>\n",
              "      <th>x2</th>\n",
              "      <th>y</th>\n",
              "    </tr>\n",
              "  </thead>\n",
              "  <tbody>\n",
              "    <tr>\n",
              "      <th>0</th>\n",
              "      <td>0</td>\n",
              "      <td>0</td>\n",
              "      <td>0</td>\n",
              "    </tr>\n",
              "    <tr>\n",
              "      <th>1</th>\n",
              "      <td>0</td>\n",
              "      <td>1</td>\n",
              "      <td>1</td>\n",
              "    </tr>\n",
              "    <tr>\n",
              "      <th>2</th>\n",
              "      <td>1</td>\n",
              "      <td>0</td>\n",
              "      <td>1</td>\n",
              "    </tr>\n",
              "    <tr>\n",
              "      <th>3</th>\n",
              "      <td>1</td>\n",
              "      <td>1</td>\n",
              "      <td>0</td>\n",
              "    </tr>\n",
              "  </tbody>\n",
              "</table>\n",
              "</div>\n",
              "      <button class=\"colab-df-convert\" onclick=\"convertToInteractive('df-7527eb99-7c61-4e10-8fd1-43e898fafb94')\"\n",
              "              title=\"Convert this dataframe to an interactive table.\"\n",
              "              style=\"display:none;\">\n",
              "        \n",
              "  <svg xmlns=\"http://www.w3.org/2000/svg\" height=\"24px\"viewBox=\"0 0 24 24\"\n",
              "       width=\"24px\">\n",
              "    <path d=\"M0 0h24v24H0V0z\" fill=\"none\"/>\n",
              "    <path d=\"M18.56 5.44l.94 2.06.94-2.06 2.06-.94-2.06-.94-.94-2.06-.94 2.06-2.06.94zm-11 1L8.5 8.5l.94-2.06 2.06-.94-2.06-.94L8.5 2.5l-.94 2.06-2.06.94zm10 10l.94 2.06.94-2.06 2.06-.94-2.06-.94-.94-2.06-.94 2.06-2.06.94z\"/><path d=\"M17.41 7.96l-1.37-1.37c-.4-.4-.92-.59-1.43-.59-.52 0-1.04.2-1.43.59L10.3 9.45l-7.72 7.72c-.78.78-.78 2.05 0 2.83L4 21.41c.39.39.9.59 1.41.59.51 0 1.02-.2 1.41-.59l7.78-7.78 2.81-2.81c.8-.78.8-2.07 0-2.86zM5.41 20L4 18.59l7.72-7.72 1.47 1.35L5.41 20z\"/>\n",
              "  </svg>\n",
              "      </button>\n",
              "      \n",
              "  <style>\n",
              "    .colab-df-container {\n",
              "      display:flex;\n",
              "      flex-wrap:wrap;\n",
              "      gap: 12px;\n",
              "    }\n",
              "\n",
              "    .colab-df-convert {\n",
              "      background-color: #E8F0FE;\n",
              "      border: none;\n",
              "      border-radius: 50%;\n",
              "      cursor: pointer;\n",
              "      display: none;\n",
              "      fill: #1967D2;\n",
              "      height: 32px;\n",
              "      padding: 0 0 0 0;\n",
              "      width: 32px;\n",
              "    }\n",
              "\n",
              "    .colab-df-convert:hover {\n",
              "      background-color: #E2EBFA;\n",
              "      box-shadow: 0px 1px 2px rgba(60, 64, 67, 0.3), 0px 1px 3px 1px rgba(60, 64, 67, 0.15);\n",
              "      fill: #174EA6;\n",
              "    }\n",
              "\n",
              "    [theme=dark] .colab-df-convert {\n",
              "      background-color: #3B4455;\n",
              "      fill: #D2E3FC;\n",
              "    }\n",
              "\n",
              "    [theme=dark] .colab-df-convert:hover {\n",
              "      background-color: #434B5C;\n",
              "      box-shadow: 0px 1px 3px 1px rgba(0, 0, 0, 0.15);\n",
              "      filter: drop-shadow(0px 1px 2px rgba(0, 0, 0, 0.3));\n",
              "      fill: #FFFFFF;\n",
              "    }\n",
              "  </style>\n",
              "\n",
              "      <script>\n",
              "        const buttonEl =\n",
              "          document.querySelector('#df-7527eb99-7c61-4e10-8fd1-43e898fafb94 button.colab-df-convert');\n",
              "        buttonEl.style.display =\n",
              "          google.colab.kernel.accessAllowed ? 'block' : 'none';\n",
              "\n",
              "        async function convertToInteractive(key) {\n",
              "          const element = document.querySelector('#df-7527eb99-7c61-4e10-8fd1-43e898fafb94');\n",
              "          const dataTable =\n",
              "            await google.colab.kernel.invokeFunction('convertToInteractive',\n",
              "                                                     [key], {});\n",
              "          if (!dataTable) return;\n",
              "\n",
              "          const docLinkHtml = 'Like what you see? Visit the ' +\n",
              "            '<a target=\"_blank\" href=https://colab.research.google.com/notebooks/data_table.ipynb>data table notebook</a>'\n",
              "            + ' to learn more about interactive tables.';\n",
              "          element.innerHTML = '';\n",
              "          dataTable['output_type'] = 'display_data';\n",
              "          await google.colab.output.renderOutput(dataTable, element);\n",
              "          const docLink = document.createElement('div');\n",
              "          docLink.innerHTML = docLinkHtml;\n",
              "          element.appendChild(docLink);\n",
              "        }\n",
              "      </script>\n",
              "    </div>\n",
              "  </div>\n",
              "  "
            ]
          },
          "metadata": {},
          "execution_count": 1
        }
      ],
      "source": [
        "# XOR table\n",
        "import pandas as pd, numpy as np, matplotlib.pyplot as plt\n",
        "XOR_table = pd.read_csv('XOR_table.csv')\n",
        "XOR_table"
      ]
    },
    {
      "cell_type": "markdown",
      "source": [
        "This XOR table will be our input to train the model. Specifically, our inputs are the `x1` and `x2` columns and the `y` column are the labels, or desired outputs. We will extract the values from the XOR table into an array and split out inputs and outputs."
      ],
      "metadata": {
        "id": "2GaPZAstFOQY"
      }
    },
    {
      "cell_type": "markdown",
      "metadata": {
        "id": "Y4yhYFD4h3eR"
      },
      "source": [
        "![](https://drive.google.com/uc?export=view&id=1lf82hKZxfBqhV2m5cLIRO_9pO1S3T4ty)"
      ]
    },
    {
      "cell_type": "code",
      "execution_count": 2,
      "metadata": {
        "id": "_oCWE2KK_vVr",
        "outputId": "6b262de5-0ac9-43ce-b8bc-a266f28c8b86",
        "colab": {
          "base_uri": "https://localhost:8080/"
        }
      },
      "outputs": [
        {
          "output_type": "stream",
          "name": "stdout",
          "text": [
            "[[0 0]\n",
            " [0 1]\n",
            " [1 0]\n",
            " [1 1]]\n",
            "[[0]\n",
            " [1]\n",
            " [1]\n",
            " [0]]\n"
          ]
        }
      ],
      "source": [
        "XOR_values = XOR_table.values\n",
        "X = XOR_values[:,0:2]\n",
        "targets = XOR_values[:,-1].reshape(-1,1)\n",
        "\n",
        "print(X)       # Input data\n",
        "print(targets) # Output targets"
      ]
    },
    {
      "cell_type": "markdown",
      "source": [
        "Now let's implement our Neural Network. It will have one input layer, a hidden layer, and an output layer. The input and hidden layers will each have two nodes, and the output will have one, since our task is to output a binary value. \n",
        "\n",
        "Here we will do some setup."
      ],
      "metadata": {
        "id": "vn7rXcdeGzTX"
      }
    },
    {
      "cell_type": "code",
      "execution_count": 19,
      "metadata": {
        "id": "J7L0PtiRjNr5"
      },
      "outputs": [],
      "source": [
        "# First set a seed for consistent results\n",
        "np.random.seed(5)\n",
        "\n",
        "# Define dimensions on input, hidden and output layers\n",
        "# There are two input neurons, two in hidden layer, and one output\n",
        "input_dim, hidden_dim, output_dim = 2,2,1\n",
        "\n",
        "# Define learning rate\n",
        "learning_rate=0.1\n",
        "\n",
        "# Define a hidden layer and output layer\n",
        "# We will initialize our weights randomly\n",
        "W1 = np.random.normal(0,1,(hidden_dim, input_dim))\n",
        "W2 = np.random.normal(0,1,(hidden_dim, output_dim))"
      ]
    },
    {
      "cell_type": "markdown",
      "source": [
        "Now let's define some functions."
      ],
      "metadata": {
        "id": "tgOybfAnHpTQ"
      }
    },
    {
      "cell_type": "code",
      "source": [
        "# Define sigmoid activation function\n",
        "# if deriv = True, returns the derivative instead\n",
        "def sigmoid(x, deriv=False):\n",
        "  if deriv:\n",
        "    return x*(1-x)\n",
        "  else:\n",
        "    return 1/(1+np.exp(-x))\n",
        "\n",
        "# Define loss function\n",
        "# This will accept two arrays and return the L2-norm error\n",
        "def loss(y,t):\n",
        "  return np.sum((y-t)**2)\n",
        "\n",
        "# Performs feed foward computations and returns the results\n",
        "def forward(x, w1, w2):\n",
        "  z = sigmoid(np.dot(x,w1.T))\n",
        "  y = sigmoid(np.dot(z,w2))\n",
        "  return z,y\n",
        "\n",
        "# Performs back propogation to obtain gradients of loss function\n",
        "def backprop(x,z,y,w1,w2,targets):\n",
        "  error = 2*(y-targets)\n",
        "  grad_w2 = np.dot((error*sigmoid(y, deriv=True)).T, z).T\n",
        "  #grad_w2 = (np.dot(2*(y-targets).T, y).dot((1-y).T).dot(z)).T\n",
        "  g1 = error*sigmoid(y,deriv=True).dot(W2.T)\n",
        "  g2 = g1*sigmoid(z,deriv=True)\n",
        "  grad_w1 = np.dot(g2.T, x)\n",
        "  return grad_w1, grad_w2\n",
        "\n",
        "# Training routine\n",
        "# returns \n",
        "#   w1,w2: updated weights matrices\n",
        "#   loss_vals: array of loss function values for each iteration\n",
        "def train(x,targets,w1,w2,iter = 10000,verbose=False):\n",
        "  # Define empty array to store loss function output\n",
        "  loss_vals = []\n",
        "\n",
        "  # create local copies of W1 and W2 so we don't overwrite the originals\n",
        "  local_w1 = w1.copy()\n",
        "  local_w2 = w2.copy()\n",
        "  for i in range(iter):\n",
        "    \n",
        "    # Forward pass: compute predicted y\n",
        "    z,y = forward(x, local_w1, local_w2)\n",
        "\n",
        "    # Compute and print L2-norm loss\n",
        "    if verbose: print(loss(y,targets))\n",
        "\n",
        "    # Backprop to compute gradients of w1 and w2 with respect to L2-norm loss\n",
        "    grad_w1, grad_w2 = backprop(x,z,y,local_w1,local_w2,targets)\n",
        "\n",
        "    # Update weights\n",
        "    local_w1 -= learning_rate*grad_w1\n",
        "    local_w2 -= learning_rate*grad_w2\n",
        "\n",
        "    # Save loss to an array\n",
        "    loss_vals.append(np.sum(loss(y,targets)))\n",
        "\n",
        "  return local_w1,local_w2,loss_vals\n",
        "\n",
        "# Predict based on trained weights\n",
        "def predict(x, w1_pred, w2_pred):\n",
        "  z,y = forward(x,w1_pred,w2_pred)\n",
        "  return z,y"
      ],
      "metadata": {
        "id": "3erFwJJJHmmp"
      },
      "execution_count": 17,
      "outputs": []
    },
    {
      "cell_type": "markdown",
      "source": [
        "Now with these functions defined we may implement the NN. "
      ],
      "metadata": {
        "id": "jNg87mgpJS0T"
      }
    },
    {
      "cell_type": "code",
      "source": [
        "# Train neural net\n",
        "W1_pred,W2_pred,loss_vals = train(X,targets,W1,W2)\n",
        "\n",
        "# Plot loss function over each iteration\n",
        "%matplotlib inline\n",
        "plt.plot(loss_vals);"
      ],
      "metadata": {
        "colab": {
          "base_uri": "https://localhost:8080/",
          "height": 265
        },
        "id": "XKrtiiIZJK2D",
        "outputId": "89413760-3d5d-40a6-fcf7-5a2cf4cd458e"
      },
      "execution_count": 20,
      "outputs": [
        {
          "output_type": "display_data",
          "data": {
            "text/plain": [
              "<Figure size 432x288 with 1 Axes>"
            ],
            "image/png": "[encoded data removed]"
          },
          "metadata": {
            "needs_background": "light"
          }
        }
      ]
    },
    {
      "cell_type": "markdown",
      "source": [
        "We observe a high amount of error from this loss curve, so let's try adding more neurons, say 4, to our hidden layer. "
      ],
      "metadata": {
        "id": "EaF2-iYzB9wm"
      }
    },
    {
      "cell_type": "code",
      "source": [
        "# Redefine hidden_dim\n",
        "hidden_dim = 4\n",
        "\n",
        "# Reinitialize weights\n",
        "W1 = np.random.normal(0,1,(hidden_dim, input_dim))\n",
        "W2 = np.random.normal(0,1,(hidden_dim, output_dim))\n",
        "\n",
        "# Train neural net\n",
        "W1_pred,W2_pred,loss_vals = train(X,targets,W1,W2)\n",
        "\n",
        "# Plot loss function over each iteration\n",
        "%matplotlib inline\n",
        "plt.plot(loss_vals);"
      ],
      "metadata": {
        "id": "Pvrhc0g0CGzb",
        "outputId": "6f2338e3-347d-40b3-8ef3-999999dd7982",
        "colab": {
          "base_uri": "https://localhost:8080/",
          "height": 265
        }
      },
      "execution_count": 21,
      "outputs": [
        {
          "output_type": "display_data",
          "data": {
            "text/plain": [
              "<Figure size 432x288 with 1 Axes>"
            ],
            "image/png": "[encoded data removed]"
          },
          "metadata": {
            "needs_background": "light"
          }
        }
      ]
    },
    {
      "cell_type": "markdown",
      "source": [
        "Now our loss function converges very close to 0. \n",
        "Checking our predictions on the training data, we should see values that are very close to the actual labels."
      ],
      "metadata": {
        "id": "Ha1szekhCc1p"
      }
    },
    {
      "cell_type": "code",
      "source": [
        "# run prediction on test data\n",
        "z,y = predict(X, W1_pred, W2_pred)\n",
        "results = np.hstack((X,y, targets))\n",
        "vars = np.array([\"X1\", \"X2\", \"predicted\", \"actual\"])\n",
        "pd.DataFrame(results, columns = vars)"
      ],
      "metadata": {
        "id": "KJ30kYuMCnVo",
        "outputId": "32005067-0859-4d69-c2b2-1f5269c502a0",
        "colab": {
          "base_uri": "https://localhost:8080/",
          "height": 175
        }
      },
      "execution_count": 36,
      "outputs": [
        {
          "output_type": "execute_result",
          "data": {
            "text/plain": [
              "    X1   X2  predicted  actual\n",
              "0  0.0  0.0   0.057052     0.0\n",
              "1  0.0  1.0   0.945438     1.0\n",
              "2  1.0  0.0   0.947519     1.0\n",
              "3  1.0  1.0   0.058518     0.0"
            ],
            "text/html": [
              "\n",
              "  <div id=\"df-63885f09-e577-4a2b-ae5f-626eeca8a1fe\">\n",
              "    <div class=\"colab-df-container\">\n",
              "      <div>\n",
              "<style scoped>\n",
              "    .dataframe tbody tr th:only-of-type {\n",
              "        vertical-align: middle;\n",
              "    }\n",
              "\n",
              "    .dataframe tbody tr th {\n",
              "        vertical-align: top;\n",
              "    }\n",
              "\n",
              "    .dataframe thead th {\n",
              "        text-align: right;\n",
              "    }\n",
              "</style>\n",
              "<table border=\"1\" class=\"dataframe\">\n",
              "  <thead>\n",
              "    <tr style=\"text-align: right;\">\n",
              "      <th></th>\n",
              "      <th>X1</th>\n",
              "      <th>X2</th>\n",
              "      <th>predicted</th>\n",
              "      <th>actual</th>\n",
              "    </tr>\n",
              "  </thead>\n",
              "  <tbody>\n",
              "    <tr>\n",
              "      <th>0</th>\n",
              "      <td>0.0</td>\n",
              "      <td>0.0</td>\n",
              "      <td>0.057052</td>\n",
              "      <td>0.0</td>\n",
              "    </tr>\n",
              "    <tr>\n",
              "      <th>1</th>\n",
              "      <td>0.0</td>\n",
              "      <td>1.0</td>\n",
              "      <td>0.945438</td>\n",
              "      <td>1.0</td>\n",
              "    </tr>\n",
              "    <tr>\n",
              "      <th>2</th>\n",
              "      <td>1.0</td>\n",
              "      <td>0.0</td>\n",
              "      <td>0.947519</td>\n",
              "      <td>1.0</td>\n",
              "    </tr>\n",
              "    <tr>\n",
              "      <th>3</th>\n",
              "      <td>1.0</td>\n",
              "      <td>1.0</td>\n",
              "      <td>0.058518</td>\n",
              "      <td>0.0</td>\n",
              "    </tr>\n",
              "  </tbody>\n",
              "</table>\n",
              "</div>\n",
              "      <button class=\"colab-df-convert\" onclick=\"convertToInteractive('df-63885f09-e577-4a2b-ae5f-626eeca8a1fe')\"\n",
              "              title=\"Convert this dataframe to an interactive table.\"\n",
              "              style=\"display:none;\">\n",
              "        \n",
              "  <svg xmlns=\"http://www.w3.org/2000/svg\" height=\"24px\"viewBox=\"0 0 24 24\"\n",
              "       width=\"24px\">\n",
              "    <path d=\"M0 0h24v24H0V0z\" fill=\"none\"/>\n",
              "    <path d=\"M18.56 5.44l.94 2.06.94-2.06 2.06-.94-2.06-.94-.94-2.06-.94 2.06-2.06.94zm-11 1L8.5 8.5l.94-2.06 2.06-.94-2.06-.94L8.5 2.5l-.94 2.06-2.06.94zm10 10l.94 2.06.94-2.06 2.06-.94-2.06-.94-.94-2.06-.94 2.06-2.06.94z\"/><path d=\"M17.41 7.96l-1.37-1.37c-.4-.4-.92-.59-1.43-.59-.52 0-1.04.2-1.43.59L10.3 9.45l-7.72 7.72c-.78.78-.78 2.05 0 2.83L4 21.41c.39.39.9.59 1.41.59.51 0 1.02-.2 1.41-.59l7.78-7.78 2.81-2.81c.8-.78.8-2.07 0-2.86zM5.41 20L4 18.59l7.72-7.72 1.47 1.35L5.41 20z\"/>\n",
              "  </svg>\n",
              "      </button>\n",
              "      \n",
              "  <style>\n",
              "    .colab-df-container {\n",
              "      display:flex;\n",
              "      flex-wrap:wrap;\n",
              "      gap: 12px;\n",
              "    }\n",
              "\n",
              "    .colab-df-convert {\n",
              "      background-color: #E8F0FE;\n",
              "      border: none;\n",
              "      border-radius: 50%;\n",
              "      cursor: pointer;\n",
              "      display: none;\n",
              "      fill: #1967D2;\n",
              "      height: 32px;\n",
              "      padding: 0 0 0 0;\n",
              "      width: 32px;\n",
              "    }\n",
              "\n",
              "    .colab-df-convert:hover {\n",
              "      background-color: #E2EBFA;\n",
              "      box-shadow: 0px 1px 2px rgba(60, 64, 67, 0.3), 0px 1px 3px 1px rgba(60, 64, 67, 0.15);\n",
              "      fill: #174EA6;\n",
              "    }\n",
              "\n",
              "    [theme=dark] .colab-df-convert {\n",
              "      background-color: #3B4455;\n",
              "      fill: #D2E3FC;\n",
              "    }\n",
              "\n",
              "    [theme=dark] .colab-df-convert:hover {\n",
              "      background-color: #434B5C;\n",
              "      box-shadow: 0px 1px 3px 1px rgba(0, 0, 0, 0.15);\n",
              "      filter: drop-shadow(0px 1px 2px rgba(0, 0, 0, 0.3));\n",
              "      fill: #FFFFFF;\n",
              "    }\n",
              "  </style>\n",
              "\n",
              "      <script>\n",
              "        const buttonEl =\n",
              "          document.querySelector('#df-63885f09-e577-4a2b-ae5f-626eeca8a1fe button.colab-df-convert');\n",
              "        buttonEl.style.display =\n",
              "          google.colab.kernel.accessAllowed ? 'block' : 'none';\n",
              "\n",
              "        async function convertToInteractive(key) {\n",
              "          const element = document.querySelector('#df-63885f09-e577-4a2b-ae5f-626eeca8a1fe');\n",
              "          const dataTable =\n",
              "            await google.colab.kernel.invokeFunction('convertToInteractive',\n",
              "                                                     [key], {});\n",
              "          if (!dataTable) return;\n",
              "\n",
              "          const docLinkHtml = 'Like what you see? Visit the ' +\n",
              "            '<a target=\"_blank\" href=https://colab.research.google.com/notebooks/data_table.ipynb>data table notebook</a>'\n",
              "            + ' to learn more about interactive tables.';\n",
              "          element.innerHTML = '';\n",
              "          dataTable['output_type'] = 'display_data';\n",
              "          await google.colab.output.renderOutput(dataTable, element);\n",
              "          const docLink = document.createElement('div');\n",
              "          docLink.innerHTML = docLinkHtml;\n",
              "          element.appendChild(docLink);\n",
              "        }\n",
              "      </script>\n",
              "    </div>\n",
              "  </div>\n",
              "  "
            ]
          },
          "metadata": {},
          "execution_count": 36
        }
      ]
    },
    {
      "cell_type": "markdown",
      "source": [
        "Now we would like to evaluate the model performance on a test dataset. Since we trained the model on the entire XOR table, let's try testing on a finer grid of cartesian coordinates between `[0,1]`. We can then plot the results and use a color scale to represent the predictions. Although we do not have labels to determine model accuracy, we know that, for example, that if we take a point near `[1,1]`, say `x=[0.9, 0.9]`, that the model should predict a value close to `0`."
      ],
      "metadata": {
        "id": "UxL_jKhjHqry"
      }
    },
    {
      "cell_type": "code",
      "source": [
        "# Define a mesh grid\n",
        "n=100\n",
        "x = np.linspace(0, 1, n)\n",
        "y = np.linspace(0, 1, n)\n",
        "xv, yv = np.meshgrid(x, y)\n",
        "\n",
        "# reshape into model input\n",
        "x1 = xv.reshape(n**2,1)\n",
        "x2 = yv.reshape(n**2,1)\n",
        "x_test = np.hstack((x1,x2))\n",
        "\n",
        "# Test model\n",
        "z,y = predict(x_test, W1_pred, W2_pred)"
      ],
      "metadata": {
        "id": "OLkJEgJ2Dzyt"
      },
      "execution_count": 62,
      "outputs": []
    },
    {
      "cell_type": "code",
      "source": [
        "results = np.hstack((x_test,y))\n",
        "plt.scatter(results[:,0], results[:,1], c=results[:,2], cmap = \"RdBu_r\");\n",
        "plt.colorbar();"
      ],
      "metadata": {
        "id": "0Nala-7jJ2kO",
        "outputId": "8a9c0837-68ce-40a3-9092-a090a34ba335",
        "colab": {
          "base_uri": "https://localhost:8080/",
          "height": 265
        }
      },
      "execution_count": 81,
      "outputs": [
        {
          "output_type": "display_data",
          "data": {
            "text/plain": [
              "<Figure size 432x288 with 2 Axes>"
            ],
            "image/png": "[encoded data removed]"
          },
          "metadata": {
            "needs_background": "light"
          }
        }
      ]
    },
    {
      "cell_type": "markdown",
      "source": [
        "Here we have plotted the results of our trained neural network applied to the test data. We see in regions near `[0,1]` and `[1,0]`, the color is a gradient of dark to light red, which indicates a prediction close to `1` as expected. Similarly near `[0,0]` and `[1,1]` we see a gradient of dark to light blue, which indicates a prediction close to `0`. These colors define the two classes our inputs are classified into by the model. We can think of the classification boundary then as where color changes between red and blue. Indeed, we see that there are some regions colored in white, which draw a clear boundary between red and blue regions, so it is here that we can plausibly define the decision boundaries. When we observe two decision boundaries, this also confirms that the XOR gate is not a linearly separable problem. \n",
        "\n",
        "To explore further, we can observe how these boundaries change by adding more neurons to the hidden layer and training again on the XOR table. Recall that this model has `4` neurons in its hidden layer, so perhaps adding more will result in a more well defined, linear decision boundaries."
      ],
      "metadata": {
        "id": "sWTQzJeRMwMx"
      }
    },
    {
      "cell_type": "code",
      "source": [
        "hidden_dim = 250\n",
        "# Reinitialize weights\n",
        "W1 = np.random.normal(0,1,(hidden_dim, input_dim))\n",
        "W2 = np.random.normal(0,1,(hidden_dim, output_dim))\n",
        "\n",
        "# Train neural net\n",
        "W1_pred,W2_pred,loss_vals = train(X,targets,W1,W2)\n",
        "\n",
        "# Test model\n",
        "z,y = predict(x_test, W1_pred, W2_pred)\n",
        "\n",
        "results = np.hstack((x_test,y))\n",
        "plt.scatter(results[:,0], results[:,1], c=results[:,2], cmap = \"RdBu_r\");\n",
        "plt.colorbar();"
      ],
      "metadata": {
        "id": "b8NNed7fLZJu",
        "outputId": "afd71bbd-8421-4253-8e8e-7a5b0f48a276",
        "colab": {
          "base_uri": "https://localhost:8080/",
          "height": 265
        }
      },
      "execution_count": 84,
      "outputs": [
        {
          "output_type": "display_data",
          "data": {
            "text/plain": [
              "<Figure size 432x288 with 2 Axes>"
            ],
            "image/png": "[encoded data removed]"
          },
          "metadata": {
            "needs_background": "light"
          }
        }
      ]
    },
    {
      "cell_type": "code",
      "source": [
        "plt.scatter([0,1], [0,1]);\n",
        "plt.scatter([0,1], [1,0]);\n",
        "plt.plot(np.linspace(-.4,1), .5 - 1*np.linspace(-.4,1), 'k--');\n",
        "plt.plot(np.linspace(0,1.4), 1.5 - 1*np.linspace(0,1.4), 'k--');"
      ],
      "metadata": {
        "colab": {
          "base_uri": "https://localhost:8080/",
          "height": 265
        },
        "id": "0wnyIIZAxVJt",
        "outputId": "d695e356-f014-42ce-e7c2-81ccc6276b2c"
      },
      "execution_count": 134,
      "outputs": [
        {
          "output_type": "display_data",
          "data": {
            "text/plain": [
              "<Figure size 432x288 with 1 Axes>"
            ],
            "image/png": "[encoded data removed]"
          },
          "metadata": {
            "needs_background": "light"
          }
        }
      ]
    },
    {
      "cell_type": "markdown",
      "source": [
        "Since the problem is not linearly separable, there must be two different classifications occuring simultaneously. Any linearly separable problem can be classified with a single perceptron, but XOR requries a hidden layer with two neurons, which indicates that at least two classifications occur.\n",
        "Each hidden layer neuron dictates a decision boundary."
      ],
      "metadata": {
        "id": "hrLMtsECylMb"
      }
    }
  ],
  "metadata": {
    "colab": {
      "collapsed_sections": [],
      "name": "Lab1.ipynb",
      "provenance": []
    },
    "kernelspec": {
      "display_name": "Python 3",
      "language": "python",
      "name": "python3"
    },
    "language_info": {
      "codemirror_mode": {
        "name": "ipython",
        "version": 3
      },
      "file_extension": ".py",
      "mimetype": "text/x-python",
      "name": "python",
      "nbconvert_exporter": "python",
      "pygments_lexer": "ipython3",
      "version": "3.8.5"
    }
  },
  "nbformat": 4,
  "nbformat_minor": 0
}